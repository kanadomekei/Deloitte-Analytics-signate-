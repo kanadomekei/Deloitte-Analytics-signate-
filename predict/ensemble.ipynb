{
 "cells": [
  {
   "cell_type": "code",
   "execution_count": 8,
   "metadata": {},
   "outputs": [],
   "source": [
    "# データ処理と可視化のライブラリ\n",
    "import pandas as pd\n",
    "import numpy as np\n",
    "import matplotlib.pyplot as plt\n",
    "\n",
    "# 機械学習のライブラリ\n",
    "from sklearn.model_selection import train_test_split, GridSearchCV\n",
    "from sklearn.preprocessing import LabelEncoder\n",
    "from sklearn.metrics import mean_squared_error\n",
    "from sklearn.tree import DecisionTreeRegressor\n",
    "from sklearn.ensemble import RandomForestRegressor\n",
    "from sklearn.svm import SVR\n",
    "\n",
    "# LightGBMとOptunaのライブラリ\n",
    "import xgboost as xgb\n",
    "import lightgbm as lgb\n",
    "from catboost import CatBoostRegressor, Pool\n",
    "from lightgbm import LGBMRegressor\n",
    "from optuna.integration import LightGBMPruningCallback\n",
    "import optuna\n",
    "import optuna.visualization as vis\n",
    "\n",
    "# モデルの保存とSHAP値の計算のライブラリ\n",
    "from joblib import dump\n",
    "from joblib import load\n",
    "from joblib import dump\n",
    "import shap"
   ]
  },
  {
   "cell_type": "code",
   "execution_count": 12,
   "metadata": {},
   "outputs": [],
   "source": [
    "# データの読み込み\n",
    "train_data = pd.read_csv('../data_processed/train_data_processed.csv')\n",
    "test_data = pd.read_csv('../data_processed/test_data_processed.csv')\n",
    "submit_data = pd.read_csv('../data/test.csv')\n",
    "\n",
    "X = train_data.drop(['attendance'], axis=1)\n",
    "y = train_data['attendance']\n",
    "\n",
    "# 学習データと評価データに分割\n",
    "X_train, X_test, y_train, y_test = train_test_split(X, y, test_size=0.2, random_state=42)\n"
   ]
  },
  {
   "cell_type": "code",
   "execution_count": 13,
   "metadata": {},
   "outputs": [],
   "source": [
    "# モデルを読み込む\n",
    "XGBoost = xgb.Booster()\n",
    "XGBoost.load_model('../models/XGBoost(optuna)')\n",
    "\n",
    "CatBoost = CatBoostRegressor()\n",
    "CatBoost.load_model('../models/CatBoost(optuna)')\n",
    "\n",
    "LightGBM = load('../models/LightGBM(optuna)')"
   ]
  },
  {
   "cell_type": "code",
   "execution_count": 15,
   "metadata": {},
   "outputs": [
    {
     "name": "stdout",
     "output_type": "stream",
     "text": [
      "RMSE: 932.2617252711383\n"
     ]
    }
   ],
   "source": [
    "# 評価データで予測\n",
    "prediction1 = CatBoost.predict(X_test)\n",
    "prediction2 = LightGBM.predict(X_test)\n",
    "\n",
    "# データをDMatrixに変換\n",
    "dtest = xgb.DMatrix(X_test)\n",
    "prediction3 = XGBoost.predict(dtest)\n",
    "\n",
    "# 3つの予測の平均を計算\n",
    "predictions = (prediction1 + prediction2 + prediction3) / 3\n",
    "\n",
    "# RMSEを計算\n",
    "rmse = mean_squared_error(y_test, predictions, squared=False)\n",
    "print(f\"RMSE: {rmse}\")\n",
    "\n",
    "# 評価用データで予測\n",
    "test_predictions1 = CatBoost.predict(test_data)\n",
    "test_predictions2 = LightGBM.predict(test_data)\n",
    "\n",
    "# データをDMatrixに変換\n",
    "dtest_data = xgb.DMatrix(test_data)\n",
    "test_predictions3 = XGBoost.predict(dtest_data)\n",
    "\n",
    "# 3つの予測の平均を計算\n",
    "test_predictions = (test_predictions1 + test_predictions2 + test_predictions3) / 3\n",
    "\n",
    "# 提出用データフレームを作成\n",
    "submission = pd.DataFrame({\n",
    "    'id': submit_data['id'],\n",
    "    'attendance': test_predictions\n",
    "})\n",
    "\n",
    "# ヘッダーを含まずにCSVファイルとして保存（'Deloitte Analytics/submission'フォルダに保存）\n",
    "submission.to_csv('../submission/14ensemble.csv', index=False, header=False)\n",
    "\n"
   ]
  }
 ],
 "metadata": {
  "kernelspec": {
   "display_name": "base",
   "language": "python",
   "name": "python3"
  },
  "language_info": {
   "codemirror_mode": {
    "name": "ipython",
    "version": 3
   },
   "file_extension": ".py",
   "mimetype": "text/x-python",
   "name": "python",
   "nbconvert_exporter": "python",
   "pygments_lexer": "ipython3",
   "version": "3.9.7"
  },
  "orig_nbformat": 4
 },
 "nbformat": 4,
 "nbformat_minor": 2
}
