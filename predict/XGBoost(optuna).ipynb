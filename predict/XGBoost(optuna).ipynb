{
 "cells": [
  {
   "cell_type": "code",
   "execution_count": 11,
   "metadata": {},
   "outputs": [],
   "source": [
    "\n",
    "import lightgbm as lgb\n",
    "from sklearn.model_selection import train_test_split\n",
    "from sklearn.preprocessing import LabelEncoder\n",
    "from sklearn.tree import DecisionTreeRegressor\n",
    "from sklearn.metrics import mean_squared_error\n",
    "from sklearn.ensemble import RandomForestRegressor\n",
    "from sklearn.svm import SVR\n",
    "from sklearn.model_selection import GridSearchCV\n",
    "import pandas as pd\n",
    "import numpy as np\n",
    "from joblib import dump\n",
    "import optuna\n",
    "from optuna.integration import LightGBMPruningCallback\n",
    "from lightgbm import LGBMRegressor\n",
    "from sklearn.metrics import mean_squared_error\n",
    "from sklearn.model_selection import train_test_split\n",
    "import numpy as np\n",
    "import optuna\n",
    "from optuna.integration import LightGBMPruningCallback\n",
    "from lightgbm import LGBMRegressor\n",
    "from sklearn.metrics import mean_squared_error\n",
    "from sklearn.model_selection import train_test_split\n",
    "import numpy as np\n",
    "import joblib\n",
    "import optuna.visualization as vis\n",
    "from sklearn.model_selection import cross_val_score, KFold\n",
    "import warnings\n",
    "warnings.filterwarnings(\"ignore\")"
   ]
  },
  {
   "cell_type": "code",
   "execution_count": 12,
   "metadata": {},
   "outputs": [],
   "source": [
    "# データの読み込み\n",
    "train_data = pd.read_csv('../data_processed/train_data_processed.csv')\n",
    "test_data = pd.read_csv('../data_processed/test_data_processed.csv')\n",
    "submit_data = pd.read_csv('../data/test.csv')\n",
    "\n",
    "X = train_data.drop(['attendance'], axis=1)\n",
    "y = train_data['attendance']\n",
    "\n",
    "# 学習データと評価データに分割\n",
    "X_train, X_test, y_train, y_test = train_test_split(X, y, test_size=0.2, random_state=42)\n",
    "\n",
    "# 評価データをDMatrixに変換\n",
    "dtest = xgb.DMatrix(X_test)"
   ]
  },
  {
   "cell_type": "code",
   "execution_count": 13,
   "metadata": {},
   "outputs": [],
   "source": [
    "# モデルを読み込む\n",
    "XGBoost = xgb.Booster()\n",
    "XGBoost.load_model('../models/XGBoost(交差検証法)')"
   ]
  },
  {
   "cell_type": "code",
   "execution_count": 15,
   "metadata": {},
   "outputs": [
    {
     "name": "stdout",
     "output_type": "stream",
     "text": [
      "RMSE: 1340.5699117758693\n",
      "        Prediction   Actual   Difference\n",
      "1116  10743.515625  10211.0  -532.515625\n",
      "2358   8578.427734   8499.0   -79.427734\n",
      "807   18519.781250  18171.0  -348.781250\n",
      "2700  19560.917969  19977.0   416.082031\n",
      "196   11570.718750   9142.0 -2428.718750\n",
      "...            ...      ...          ...\n",
      "2929  11919.902344  12144.0   224.097656\n",
      "1211  17375.158203  15071.0 -2304.158203\n",
      "3059  18385.146484  18219.0  -166.146484\n",
      "1210  14524.304688  14486.0   -38.304688\n",
      "2493  20875.826172  21132.0   256.173828\n",
      "\n",
      "[674 rows x 3 columns]\n"
     ]
    }
   ],
   "source": [
    "# 評価データで予測\n",
    "predictions = XGBoost.predict(dtest)\n",
    "\n",
    "# RMSEを計算\n",
    "rmse = mean_squared_error(y_test, predictions, squared=False)\n",
    "print(f\"RMSE: {rmse}\")\n",
    "\n",
    "# 予測値とy_testの値をデータフレームに変換\n",
    "results = pd.DataFrame({'Prediction': predictions, 'Actual': y_test})\n",
    "\n",
    "# 差分を計算\n",
    "results['Difference'] = results['Actual'] - results['Prediction']\n",
    "\n",
    "# 結果を出力\n",
    "\n",
    "print(results)\n",
    "# 評価用データをDMatrixに変換\n",
    "dsubmit = xgb.DMatrix(test_data)\n",
    "\n",
    "# 評価用データで予測\n",
    "test_predictions = XGBoost.predict(dsubmit)\n",
    "\n",
    "# 提出用データフレームを作成\n",
    "submission = pd.DataFrame({\n",
    "    'id': submit_data['id'],\n",
    "    'attendance': test_predictions\n",
    "})\n",
    "\n"
   ]
  },
  {
   "cell_type": "code",
   "execution_count": null,
   "metadata": {},
   "outputs": [],
   "source": [
    "# ヘッダーを含まずにCSVファイルとして保存（'Deloitte Analytics/submission'フォルダに保存）\n",
    "submission.to_csv('../submission/18XGBoost(交差検証法).csv', index=False, header=False)"
   ]
  }
 ],
 "metadata": {
  "kernelspec": {
   "display_name": "base",
   "language": "python",
   "name": "python3"
  },
  "language_info": {
   "codemirror_mode": {
    "name": "ipython",
    "version": 3
   },
   "file_extension": ".py",
   "mimetype": "text/x-python",
   "name": "python",
   "nbconvert_exporter": "python",
   "pygments_lexer": "ipython3",
   "version": "3.9.7"
  },
  "orig_nbformat": 4
 },
 "nbformat": 4,
 "nbformat_minor": 2
}
