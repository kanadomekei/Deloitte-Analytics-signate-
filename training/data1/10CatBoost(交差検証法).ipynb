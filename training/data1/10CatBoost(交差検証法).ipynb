{
 "cells": [
  {
   "cell_type": "code",
   "execution_count": 8,
   "metadata": {},
   "outputs": [],
   "source": [
    "import lightgbm\n",
    "import xgboost as xgb\n",
    "from catboost import CatBoostRegressor, Pool\n",
    "from sklearn.model_selection import GridSearchCV\n",
    "from sklearn.model_selection import train_test_split\n",
    "from sklearn.preprocessing import LabelEncoder\n",
    "from sklearn.tree import DecisionTreeRegressor\n",
    "from sklearn.metrics import mean_squared_error\n",
    "from sklearn.ensemble import RandomForestRegressor\n",
    "from sklearn.svm import SVR\n",
    "from sklearn.model_selection import GridSearchCV\n",
    "import pandas as pd\n",
    "import numpy as np\n",
    "from joblib import dump\n",
    "import lightgbm as lgb\n",
    "from sklearn.model_selection import train_test_split\n",
    "from sklearn.preprocessing import LabelEncoder\n",
    "from sklearn.tree import DecisionTreeRegressor\n",
    "from sklearn.metrics import mean_squared_error\n",
    "from sklearn.ensemble import RandomForestRegressor\n",
    "from sklearn.svm import SVR\n",
    "from sklearn.model_selection import GridSearchCV\n",
    "import pandas as pd\n",
    "import numpy as np\n",
    "from joblib import dump\n",
    "import optuna\n",
    "from optuna.integration import LightGBMPruningCallback\n",
    "from lightgbm import LGBMRegressor\n",
    "from sklearn.metrics import mean_squared_error\n",
    "from sklearn.model_selection import train_test_split\n",
    "import numpy as np\n",
    "import optuna\n",
    "from optuna.integration import LightGBMPruningCallback\n",
    "from lightgbm import LGBMRegressor\n",
    "from sklearn.metrics import mean_squared_error\n",
    "from sklearn.model_selection import train_test_split\n",
    "import numpy as np\n",
    "import joblib\n",
    "import optuna.visualization as vis\n",
    "from sklearn.model_selection import cross_val_score, KFold\n",
    "import warnings\n",
    "warnings.filterwarnings(\"ignore\")\n",
    "import optuna\n",
    "\n"
   ]
  },
  {
   "cell_type": "code",
   "execution_count": 9,
   "metadata": {},
   "outputs": [],
   "source": [
    "# データの読み込み\n",
    "train_data = pd.read_csv('../data_processed/train_data_processed.csv')\n",
    "test_data = pd.read_csv('../data_processed/test_data_processed.csv')\n",
    "submit_data = pd.read_csv('../data/test.csv')\n",
    "\n",
    "X = train_data.drop(['attendance'], axis=1)\n",
    "y = train_data['attendance']\n",
    "\n",
    "\n",
    "# データの分割\n",
    "X_train, X_val, y_train, y_val = train_test_split(X, y, test_size=0.2, random_state=42)"
   ]
  },
  {
   "cell_type": "code",
   "execution_count": 10,
   "metadata": {},
   "outputs": [
    {
     "name": "stderr",
     "output_type": "stream",
     "text": [
      "[I 2023-06-29 04:12:17,291] A new study created in memory with name: no-name-2c677e18-11e9-4d68-a0e2-e04e1d2e218b\n",
      "[I 2023-06-29 04:12:19,987] Trial 0 finished with value: 9134.31638584718 and parameters: {'depth': 9, 'learning_rate': 0.0012725990125870446, 'iterations': 61, 'l2_leaf_reg': 12, 'border_count': 128}. Best is trial 0 with value: 9134.31638584718.\n",
      "[I 2023-06-29 04:12:45,287] Trial 1 finished with value: 4190.234472453248 and parameters: {'depth': 6, 'learning_rate': 0.02662896933992949, 'iterations': 1263, 'l2_leaf_reg': 13, 'border_count': 64}. Best is trial 1 with value: 4190.234472453248.\n",
      "[I 2023-06-29 04:12:50,874] Trial 2 finished with value: 9390.102876402063 and parameters: {'depth': 8, 'learning_rate': 7.910624170919946e-05, 'iterations': 210, 'l2_leaf_reg': 11, 'border_count': 64}. Best is trial 1 with value: 4190.234472453248.\n",
      "[I 2023-06-29 04:13:15,469] Trial 3 finished with value: 7124.561059916154 and parameters: {'depth': 9, 'learning_rate': 0.0014790807101296767, 'iterations': 503, 'l2_leaf_reg': 15, 'border_count': 64}. Best is trial 1 with value: 4190.234472453248.\n",
      "[I 2023-06-29 04:13:43,584] Trial 4 finished with value: 9262.688862856407 and parameters: {'depth': 6, 'learning_rate': 4.087118356147829e-05, 'iterations': 1047, 'l2_leaf_reg': 12, 'border_count': 512}. Best is trial 1 with value: 4190.234472453248.\n",
      "[I 2023-06-29 04:14:21,263] Trial 5 finished with value: 4147.005112492179 and parameters: {'depth': 8, 'learning_rate': 0.032109035454943376, 'iterations': 1120, 'l2_leaf_reg': 12, 'border_count': 32}. Best is trial 5 with value: 4147.005112492179.\n",
      "[I 2023-06-29 05:22:00,453] Trial 6 finished with value: 5005.3141795329 and parameters: {'depth': 16, 'learning_rate': 0.08307232309303328, 'iterations': 1281, 'l2_leaf_reg': 18, 'border_count': 128}. Best is trial 5 with value: 4147.005112492179.\n",
      "[I 2023-06-29 05:22:09,787] Trial 7 finished with value: 9415.863747891282 and parameters: {'depth': 4, 'learning_rate': 1.5564845792768026e-05, 'iterations': 681, 'l2_leaf_reg': 16, 'border_count': 32}. Best is trial 5 with value: 4147.005112492179.\n",
      "[I 2023-06-29 05:23:12,188] Trial 8 finished with value: 6950.896964287758 and parameters: {'depth': 16, 'learning_rate': 0.010012367083521132, 'iterations': 113, 'l2_leaf_reg': 17, 'border_count': 256}. Best is trial 5 with value: 4147.005112492179.\n",
      "[I 2023-06-29 05:23:19,431] Trial 9 finished with value: 8535.557062273152 and parameters: {'depth': 7, 'learning_rate': 0.0005588426910946061, 'iterations': 373, 'l2_leaf_reg': 7, 'border_count': 64}. Best is trial 5 with value: 4147.005112492179.\n"
     ]
    }
   ],
   "source": [
    "# 目的関数の定義\n",
    "def objective(trial):\n",
    "    params = {\n",
    "        'depth': trial.suggest_int('depth', 4, 16),\n",
    "        'learning_rate': trial.suggest_loguniform('learning_rate', 0.00001, 0.1),\n",
    "        'iterations': trial.suggest_int('iterations', 50, 2000),\n",
    "        'l2_leaf_reg': trial.suggest_int('l2_leaf_reg', 1, 20),\n",
    "        'border_count': trial.suggest_categorical('border_count', [32, 64, 128, 256, 512]),\n",
    "        'thread_count': 4\n",
    "    }\n",
    "    \n",
    "    rmse_scores = []\n",
    "    kf = KFold(n_splits=5, shuffle=True, random_state=42)\n",
    "    \n",
    "    for train_index, val_index in kf.split(X, y):\n",
    "        X_train, X_val = X.iloc[train_index], X.iloc[val_index]\n",
    "        y_train, y_val = y.iloc[train_index], y.iloc[val_index]\n",
    "        \n",
    "        model = CatBoostRegressor(**params, random_seed=42, verbose=0)\n",
    "        model.fit(X_train, y_train, eval_set=[(X_val, y_val)], early_stopping_rounds=100, \n",
    "                  cat_features=['venue', 'weather', 'day_of_week', 'is_holiday', 'season'])\n",
    "        preds = model.predict(X_val)\n",
    "        rmse = np.sqrt(mean_squared_error(y_val, preds))\n",
    "        rmse_scores.append(rmse)\n",
    "    \n",
    "    avg_rmse = np.mean(rmse_scores)\n",
    "    return avg_rmse\n",
    "\n",
    "# 最適化の実行\n",
    "study = optuna.create_study(direction='minimize', pruner=optuna.pruners.MedianPruner(n_warmup_steps=10))\n",
    "study.optimize(objective, n_trials=200, timeout=7200)\n",
    "\n",
    "# 最適なパラメータの出力\n",
    "print('Best trial:', study.best_trial.params)\n"
   ]
  },
  {
   "cell_type": "code",
   "execution_count": null,
   "metadata": {},
   "outputs": [],
   "source": [
    "# 学習曲線の描画\n",
    "vis.plot_optimization_history(study)"
   ]
  },
  {
   "cell_type": "code",
   "execution_count": null,
   "metadata": {},
   "outputs": [],
   "source": [
    "# ハイパーパラメータ探索空間の視覚化\n",
    "vis.plot_parallel_coordinate(study)"
   ]
  },
  {
   "cell_type": "code",
   "execution_count": null,
   "metadata": {},
   "outputs": [],
   "source": [
    "# ハイパーパラメータ探索空間の視覚化\n",
    "vis.plot_parallel_coordinate(study)"
   ]
  },
  {
   "cell_type": "code",
   "execution_count": 12,
   "metadata": {},
   "outputs": [],
   "source": [
    "# 最適なモデルを取得\n",
    "best_params = study.best_trial.params\n",
    "best_model = CatBoostRegressor(**best_params, random_seed=42, verbose=0)\n",
    "best_model.fit(X, y, cat_features=['venue', 'weather', 'day_of_week', 'is_holiday', 'season'])\n",
    "\n",
    "# モデルを保存\n",
    "best_model.save_model('../models/CatBoost(optuna)')"
   ]
  }
 ],
 "metadata": {
  "kernelspec": {
   "display_name": "base",
   "language": "python",
   "name": "python3"
  },
  "language_info": {
   "codemirror_mode": {
    "name": "ipython",
    "version": 3
   },
   "file_extension": ".py",
   "mimetype": "text/x-python",
   "name": "python",
   "nbconvert_exporter": "python",
   "pygments_lexer": "ipython3",
   "version": "3.9.7"
  },
  "orig_nbformat": 4
 },
 "nbformat": 4,
 "nbformat_minor": 2
}
