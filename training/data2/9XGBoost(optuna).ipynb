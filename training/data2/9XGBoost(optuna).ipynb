{
 "cells": [
  {
   "cell_type": "code",
   "execution_count": 10,
   "metadata": {},
   "outputs": [],
   "source": [
    "\n",
    "import lightgbm as lgb\n",
    "from sklearn.model_selection import train_test_split\n",
    "from sklearn.preprocessing import LabelEncoder\n",
    "from sklearn.tree import DecisionTreeRegressor\n",
    "from sklearn.metrics import mean_squared_error\n",
    "from sklearn.ensemble import RandomForestRegressor\n",
    "from sklearn.svm import SVR\n",
    "from sklearn.model_selection import GridSearchCV\n",
    "import pandas as pd\n",
    "import numpy as np\n",
    "from joblib import dump\n",
    "import optuna\n",
    "from optuna.integration import LightGBMPruningCallback\n",
    "from lightgbm import LGBMRegressor\n",
    "from sklearn.metrics import mean_squared_error\n",
    "from sklearn.model_selection import train_test_split\n",
    "import numpy as np\n",
    "import optuna\n",
    "from optuna.integration import LightGBMPruningCallback\n",
    "from lightgbm import LGBMRegressor\n",
    "from sklearn.metrics import mean_squared_error\n",
    "from sklearn.model_selection import train_test_split\n",
    "import numpy as np\n",
    "import joblib\n",
    "import optuna.visualization as vis\n",
    "from sklearn.model_selection import cross_val_score, KFold\n",
    "import warnings\n",
    "warnings.filterwarnings(\"ignore\")"
   ]
  },
  {
   "cell_type": "code",
   "execution_count": 7,
   "metadata": {},
   "outputs": [],
   "source": [
    "# データの読み込み\n",
    "train_data = pd.read_csv('../data_processed/train_data_processed.csv')\n",
    "test_data = pd.read_csv('../data_processed/test_data_processed.csv')\n",
    "submit_data = pd.read_csv('../data/test.csv')\n",
    "\n",
    "X = train_data.drop(['attendance'], axis=1)\n",
    "y = train_data['attendance']\n",
    "\n",
    "# データの分割\n",
    "X_train, X_val, y_train, y_val = train_test_split(X, y, test_size=0.2, random_state=42)"
   ]
  },
  {
   "cell_type": "code",
   "execution_count": 15,
   "metadata": {},
   "outputs": [
    {
     "name": "stderr",
     "output_type": "stream",
     "text": [
      "[I 2023-06-29 03:38:17,185] A new study created in memory with name: no-name-ae0c17a7-fb43-4e8f-9e2c-8f1552694f0c\n",
      "[I 2023-06-29 03:38:22,873] Trial 0 finished with value: 19167.781025277473 and parameters: {'max_depth': 6, 'learning_rate': 3.13217699803811e-05, 'n_estimators': 1319, 'min_child_weight': 17, 'gamma': 4.7, 'subsample': 0.8500000000000001, 'colsample_bytree': 0.95, 'reg_alpha': 0.2, 'reg_lambda': 0.0}. Best is trial 0 with value: 19167.781025277473.\n",
      "[I 2023-06-29 03:38:30,206] Trial 1 finished with value: 18984.11079443262 and parameters: {'max_depth': 16, 'learning_rate': 4.0389483661712456e-05, 'n_estimators': 1293, 'min_child_weight': 11, 'gamma': 0.4, 'subsample': 0.5, 'colsample_bytree': 0.8, 'reg_alpha': 0.6000000000000001, 'reg_lambda': 0.30000000000000004}. Best is trial 1 with value: 18984.11079443262.\n",
      "[I 2023-06-29 03:38:36,938] Trial 2 finished with value: 5327.714062169808 and parameters: {'max_depth': 9, 'learning_rate': 0.0013648970819363038, 'n_estimators': 1408, 'min_child_weight': 11, 'gamma': 0.4, 'subsample': 0.8500000000000001, 'colsample_bytree': 0.55, 'reg_alpha': 0.1, 'reg_lambda': 0.7000000000000001}. Best is trial 2 with value: 5327.714062169808.\n",
      "[I 2023-06-29 03:38:51,598] Trial 3 finished with value: 8764.405677407327 and parameters: {'max_depth': 11, 'learning_rate': 0.000514982284255469, 'n_estimators': 1881, 'min_child_weight': 7, 'gamma': 1.3000000000000003, 'subsample': 0.8, 'colsample_bytree': 0.9, 'reg_alpha': 0.9, 'reg_lambda': 1.0}. Best is trial 2 with value: 5327.714062169808.\n",
      "[I 2023-06-29 03:38:56,508] Trial 4 finished with value: 5611.28915378101 and parameters: {'max_depth': 2, 'learning_rate': 0.0033068209706971037, 'n_estimators': 800, 'min_child_weight': 18, 'gamma': 0.9, 'subsample': 0.65, 'colsample_bytree': 0.9, 'reg_alpha': 0.6000000000000001, 'reg_lambda': 0.9}. Best is trial 2 with value: 5327.714062169808.\n",
      "[I 2023-06-29 03:38:56,745] Trial 5 finished with value: 4708.220971211038 and parameters: {'max_depth': 11, 'learning_rate': 0.3478855660292027, 'n_estimators': 1604, 'min_child_weight': 5, 'gamma': 1.4000000000000001, 'subsample': 0.6, 'colsample_bytree': 1.0, 'reg_alpha': 0.9, 'reg_lambda': 0.1}. Best is trial 5 with value: 4708.220971211038.\n",
      "[I 2023-06-29 03:38:56,782] Trial 6 pruned. Trial was pruned at iteration 10.\n",
      "[I 2023-06-29 03:38:56,813] Trial 7 pruned. Trial was pruned at iteration 10.\n",
      "[I 2023-06-29 03:39:00,802] Trial 8 finished with value: 3904.2009540177346 and parameters: {'max_depth': 4, 'learning_rate': 0.09778819787824636, 'n_estimators': 670, 'min_child_weight': 8, 'gamma': 3.9000000000000004, 'subsample': 0.8, 'colsample_bytree': 0.65, 'reg_alpha': 0.6000000000000001, 'reg_lambda': 0.0}. Best is trial 8 with value: 3904.2009540177346.\n",
      "[I 2023-06-29 03:39:00,845] Trial 9 pruned. Trial was pruned at iteration 10.\n",
      "[I 2023-06-29 03:39:01,345] Trial 10 finished with value: 4405.066819838157 and parameters: {'max_depth': 20, 'learning_rate': 0.27827094654058704, 'n_estimators': 157, 'min_child_weight': 13, 'gamma': 3.2, 'subsample': 1.0, 'colsample_bytree': 0.65, 'reg_alpha': 0.4, 'reg_lambda': 0.2}. Best is trial 8 with value: 3904.2009540177346.\n",
      "[I 2023-06-29 03:39:01,675] Trial 11 finished with value: 4757.438344442866 and parameters: {'max_depth': 20, 'learning_rate': 0.5351521431256011, 'n_estimators': 173, 'min_child_weight': 13, 'gamma': 3.2, 'subsample': 1.0, 'colsample_bytree': 0.65, 'reg_alpha': 0.4, 'reg_lambda': 0.2}. Best is trial 8 with value: 3904.2009540177346.\n",
      "[I 2023-06-29 03:39:04,122] Trial 12 finished with value: 4096.632604554073 and parameters: {'max_depth': 15, 'learning_rate': 0.07069099131981653, 'n_estimators': 217, 'min_child_weight': 13, 'gamma': 4.3, 'subsample': 1.0, 'colsample_bytree': 0.7, 'reg_alpha': 0.4, 'reg_lambda': 0.30000000000000004}. Best is trial 8 with value: 3904.2009540177346.\n",
      "[I 2023-06-29 03:39:06,253] Trial 13 finished with value: 4063.1121711844603 and parameters: {'max_depth': 14, 'learning_rate': 0.06935762893423521, 'n_estimators': 489, 'min_child_weight': 14, 'gamma': 5.0, 'subsample': 0.9, 'colsample_bytree': 0.7, 'reg_alpha': 0.30000000000000004, 'reg_lambda': 0.4}. Best is trial 8 with value: 3904.2009540177346.\n",
      "[I 2023-06-29 03:39:09,770] Trial 14 pruned. Trial was pruned at iteration 10.\n",
      "[I 2023-06-29 03:39:10,031] Trial 15 pruned. Trial was pruned at iteration 10.\n",
      "[I 2023-06-29 03:39:11,054] Trial 16 finished with value: 3942.998005279223 and parameters: {'max_depth': 6, 'learning_rate': 0.11552119322145171, 'n_estimators': 563, 'min_child_weight': 8, 'gamma': 2.3000000000000003, 'subsample': 0.75, 'colsample_bytree': 0.5, 'reg_alpha': 0.30000000000000004, 'reg_lambda': 0.4}. Best is trial 8 with value: 3904.2009540177346.\n",
      "[I 2023-06-29 03:39:11,259] Trial 17 pruned. Trial was pruned at iteration 23.\n",
      "[I 2023-06-29 03:39:11,647] Trial 18 finished with value: 3978.1596263660253 and parameters: {'max_depth': 5, 'learning_rate': 0.14786540699354744, 'n_estimators': 368, 'min_child_weight': 8, 'gamma': 2.4000000000000004, 'subsample': 0.75, 'colsample_bytree': 0.5, 'reg_alpha': 0.5, 'reg_lambda': 0.6000000000000001}. Best is trial 8 with value: 3904.2009540177346.\n",
      "[I 2023-06-29 03:39:11,728] Trial 19 pruned. Trial was pruned at iteration 10.\n",
      "[I 2023-06-29 03:39:12,419] Trial 20 finished with value: 3928.020832211872 and parameters: {'max_depth': 5, 'learning_rate': 0.14576893020022416, 'n_estimators': 975, 'min_child_weight': 9, 'gamma': 2.8000000000000003, 'subsample': 0.6, 'colsample_bytree': 0.6, 'reg_alpha': 0.30000000000000004, 'reg_lambda': 0.8}. Best is trial 8 with value: 3904.2009540177346.\n",
      "[I 2023-06-29 03:39:13,374] Trial 21 finished with value: 3904.704555301261 and parameters: {'max_depth': 5, 'learning_rate': 0.15519752830079622, 'n_estimators': 938, 'min_child_weight': 9, 'gamma': 2.9000000000000004, 'subsample': 0.6, 'colsample_bytree': 0.6, 'reg_alpha': 0.30000000000000004, 'reg_lambda': 0.9}. Best is trial 8 with value: 3904.2009540177346.\n",
      "[I 2023-06-29 03:39:13,545] Trial 22 pruned. Trial was pruned at iteration 61.\n",
      "[I 2023-06-29 03:39:13,613] Trial 23 pruned. Trial was pruned at iteration 10.\n",
      "[I 2023-06-29 03:39:13,818] Trial 24 pruned. Trial was pruned at iteration 61.\n",
      "[I 2023-06-29 03:39:14,106] Trial 25 pruned. Trial was pruned at iteration 33.\n",
      "[I 2023-06-29 03:39:14,221] Trial 26 pruned. Trial was pruned at iteration 19.\n",
      "[I 2023-06-29 03:39:14,661] Trial 27 pruned. Trial was pruned at iteration 59.\n",
      "[I 2023-06-29 03:39:14,742] Trial 28 pruned. Trial was pruned at iteration 10.\n",
      "[I 2023-06-29 03:39:14,828] Trial 29 pruned. Trial was pruned at iteration 10.\n",
      "[I 2023-06-29 03:39:15,907] Trial 30 pruned. Trial was pruned at iteration 97.\n",
      "[I 2023-06-29 03:39:16,155] Trial 31 pruned. Trial was pruned at iteration 10.\n",
      "[I 2023-06-29 03:39:16,548] Trial 32 finished with value: 3945.7900834328466 and parameters: {'max_depth': 5, 'learning_rate': 0.12255720191545622, 'n_estimators': 755, 'min_child_weight': 9, 'gamma': 2.6, 'subsample': 0.75, 'colsample_bytree': 0.55, 'reg_alpha': 0.2, 'reg_lambda': 0.1}. Best is trial 8 with value: 3904.2009540177346.\n",
      "[I 2023-06-29 03:39:16,675] Trial 33 pruned. Trial was pruned at iteration 44.\n",
      "[I 2023-06-29 03:39:16,746] Trial 34 pruned. Trial was pruned at iteration 10.\n",
      "[I 2023-06-29 03:39:16,819] Trial 35 pruned. Trial was pruned at iteration 10.\n",
      "[I 2023-06-29 03:39:16,909] Trial 36 pruned. Trial was pruned at iteration 10.\n",
      "[I 2023-06-29 03:39:16,995] Trial 37 pruned. Trial was pruned at iteration 10.\n",
      "[I 2023-06-29 03:39:17,092] Trial 38 pruned. Trial was pruned at iteration 18.\n",
      "[I 2023-06-29 03:39:17,264] Trial 39 pruned. Trial was pruned at iteration 59.\n",
      "[I 2023-06-29 03:39:17,338] Trial 40 pruned. Trial was pruned at iteration 10.\n",
      "[I 2023-06-29 03:39:20,047] Trial 41 finished with value: 3956.4216623097996 and parameters: {'max_depth': 5, 'learning_rate': 0.14776478320135908, 'n_estimators': 753, 'min_child_weight': 9, 'gamma': 3.2, 'subsample': 0.8, 'colsample_bytree': 0.55, 'reg_alpha': 0.2, 'reg_lambda': 0.1}. Best is trial 8 with value: 3904.2009540177346.\n",
      "[I 2023-06-29 03:39:20,138] Trial 42 pruned. Trial was pruned at iteration 10.\n",
      "[I 2023-06-29 03:39:20,365] Trial 43 pruned. Trial was pruned at iteration 59.\n",
      "[I 2023-06-29 03:39:20,864] Trial 44 pruned. Trial was pruned at iteration 10.\n",
      "[I 2023-06-29 03:39:20,976] Trial 45 pruned. Trial was pruned at iteration 16.\n",
      "[I 2023-06-29 03:39:21,079] Trial 46 pruned. Trial was pruned at iteration 10.\n",
      "[I 2023-06-29 03:39:21,178] Trial 47 pruned. Trial was pruned at iteration 10.\n",
      "[I 2023-06-29 03:39:21,295] Trial 48 pruned. Trial was pruned at iteration 10.\n",
      "[I 2023-06-29 03:39:21,464] Trial 49 pruned. Trial was pruned at iteration 36.\n",
      "[I 2023-06-29 03:39:21,857] Trial 50 pruned. Trial was pruned at iteration 61.\n",
      "[I 2023-06-29 03:39:22,161] Trial 51 pruned. Trial was pruned at iteration 19.\n",
      "[I 2023-06-29 03:39:22,313] Trial 52 pruned. Trial was pruned at iteration 10.\n",
      "[I 2023-06-29 03:39:22,696] Trial 53 pruned. Trial was pruned at iteration 59.\n",
      "[I 2023-06-29 03:39:23,922] Trial 54 pruned. Trial was pruned at iteration 38.\n",
      "[I 2023-06-29 03:39:24,915] Trial 55 finished with value: 3971.3810137953433 and parameters: {'max_depth': 6, 'learning_rate': 0.16721114116613772, 'n_estimators': 520, 'min_child_weight': 10, 'gamma': 4.0, 'subsample': 0.95, 'colsample_bytree': 0.55, 'reg_alpha': 0.1, 'reg_lambda': 0.5}. Best is trial 8 with value: 3904.2009540177346.\n",
      "[I 2023-06-29 03:39:24,997] Trial 56 pruned. Trial was pruned at iteration 10.\n",
      "[I 2023-06-29 03:39:26,263] Trial 57 pruned. Trial was pruned at iteration 39.\n",
      "[I 2023-06-29 03:39:26,446] Trial 58 pruned. Trial was pruned at iteration 10.\n",
      "[I 2023-06-29 03:39:26,674] Trial 59 pruned. Trial was pruned at iteration 36.\n",
      "[I 2023-06-29 03:39:26,788] Trial 60 pruned. Trial was pruned at iteration 10.\n",
      "[I 2023-06-29 03:39:29,588] Trial 61 finished with value: 3916.424763613492 and parameters: {'max_depth': 6, 'learning_rate': 0.15696801939229155, 'n_estimators': 497, 'min_child_weight': 10, 'gamma': 3.7, 'subsample': 0.95, 'colsample_bytree': 0.55, 'reg_alpha': 0.1, 'reg_lambda': 0.4}. Best is trial 8 with value: 3904.2009540177346.\n",
      "[I 2023-06-29 03:39:29,678] Trial 62 pruned. Trial was pruned at iteration 10.\n",
      "[I 2023-06-29 03:39:32,242] Trial 63 pruned. Trial was pruned at iteration 146.\n",
      "[I 2023-06-29 03:39:32,480] Trial 64 pruned. Trial was pruned at iteration 67.\n",
      "[I 2023-06-29 03:39:33,193] Trial 65 pruned. Trial was pruned at iteration 10.\n",
      "[I 2023-06-29 03:39:33,474] Trial 66 pruned. Trial was pruned at iteration 17.\n",
      "[I 2023-06-29 03:39:34,356] Trial 67 pruned. Trial was pruned at iteration 10.\n",
      "[I 2023-06-29 03:39:34,726] Trial 68 pruned. Trial was pruned at iteration 37.\n",
      "[I 2023-06-29 03:39:34,882] Trial 69 pruned. Trial was pruned at iteration 31.\n",
      "[I 2023-06-29 03:39:35,128] Trial 70 pruned. Trial was pruned at iteration 90.\n",
      "[I 2023-06-29 03:39:35,313] Trial 71 pruned. Trial was pruned at iteration 67.\n",
      "[I 2023-06-29 03:39:35,795] Trial 72 finished with value: 3856.9172496561455 and parameters: {'max_depth': 6, 'learning_rate': 0.13374866098592084, 'n_estimators': 511, 'min_child_weight': 7, 'gamma': 4.6, 'subsample': 0.95, 'colsample_bytree': 0.55, 'reg_alpha': 0.0, 'reg_lambda': 0.5}. Best is trial 72 with value: 3856.9172496561455.\n",
      "[I 2023-06-29 03:39:35,948] Trial 73 pruned. Trial was pruned at iteration 59.\n",
      "[I 2023-06-29 03:39:36,231] Trial 74 pruned. Trial was pruned at iteration 10.\n",
      "[I 2023-06-29 03:39:36,444] Trial 75 pruned. Trial was pruned at iteration 10.\n",
      "[I 2023-06-29 03:39:36,563] Trial 76 pruned. Trial was pruned at iteration 10.\n",
      "[I 2023-06-29 03:39:36,782] Trial 77 pruned. Trial was pruned at iteration 10.\n",
      "[I 2023-06-29 03:39:36,903] Trial 78 pruned. Trial was pruned at iteration 10.\n",
      "[I 2023-06-29 03:39:37,008] Trial 79 pruned. Trial was pruned at iteration 10.\n",
      "[I 2023-06-29 03:39:37,234] Trial 80 pruned. Trial was pruned at iteration 39.\n",
      "[I 2023-06-29 03:39:37,543] Trial 81 finished with value: 3902.678551910212 and parameters: {'max_depth': 6, 'learning_rate': 0.1763444714791002, 'n_estimators': 487, 'min_child_weight': 10, 'gamma': 4.3999999999999995, 'subsample': 0.95, 'colsample_bytree': 0.55, 'reg_alpha': 0.1, 'reg_lambda': 0.6000000000000001}. Best is trial 72 with value: 3856.9172496561455.\n",
      "[I 2023-06-29 03:39:37,986] Trial 82 finished with value: 3807.648987942145 and parameters: {'max_depth': 6, 'learning_rate': 0.1341702126383532, 'n_estimators': 551, 'min_child_weight': 10, 'gamma': 4.3999999999999995, 'subsample': 0.95, 'colsample_bytree': 0.55, 'reg_alpha': 0.2, 'reg_lambda': 0.7000000000000001}. Best is trial 82 with value: 3807.648987942145.\n",
      "[I 2023-06-29 03:39:38,896] Trial 83 pruned. Trial was pruned at iteration 95.\n",
      "[I 2023-06-29 03:39:39,144] Trial 84 pruned. Trial was pruned at iteration 56.\n",
      "[I 2023-06-29 03:39:39,414] Trial 85 pruned. Trial was pruned at iteration 10.\n",
      "[I 2023-06-29 03:39:39,542] Trial 86 pruned. Trial was pruned at iteration 10.\n",
      "[I 2023-06-29 03:39:39,644] Trial 87 pruned. Trial was pruned at iteration 10.\n",
      "[I 2023-06-29 03:39:39,905] Trial 88 pruned. Trial was pruned at iteration 97.\n",
      "[I 2023-06-29 03:39:40,000] Trial 89 pruned. Trial was pruned at iteration 10.\n",
      "[I 2023-06-29 03:39:40,090] Trial 90 pruned. Trial was pruned at iteration 10.\n",
      "[I 2023-06-29 03:39:40,185] Trial 91 pruned. Trial was pruned at iteration 15.\n",
      "[I 2023-06-29 03:39:40,275] Trial 92 pruned. Trial was pruned at iteration 10.\n",
      "[I 2023-06-29 03:39:40,396] Trial 93 pruned. Trial was pruned at iteration 27.\n",
      "[I 2023-06-29 03:39:40,664] Trial 94 pruned. Trial was pruned at iteration 10.\n",
      "[I 2023-06-29 03:39:42,093] Trial 95 pruned. Trial was pruned at iteration 46.\n",
      "[I 2023-06-29 03:39:43,739] Trial 96 pruned. Trial was pruned at iteration 40.\n",
      "[I 2023-06-29 03:39:43,995] Trial 97 pruned. Trial was pruned at iteration 10.\n",
      "[I 2023-06-29 03:39:44,107] Trial 98 pruned. Trial was pruned at iteration 13.\n",
      "[I 2023-06-29 03:39:44,246] Trial 99 pruned. Trial was pruned at iteration 10.\n",
      "[I 2023-06-29 03:39:44,470] Trial 100 pruned. Trial was pruned at iteration 50.\n",
      "[I 2023-06-29 03:39:44,586] Trial 101 pruned. Trial was pruned at iteration 10.\n",
      "[I 2023-06-29 03:39:44,739] Trial 102 pruned. Trial was pruned at iteration 30.\n",
      "[I 2023-06-29 03:39:44,902] Trial 103 pruned. Trial was pruned at iteration 43.\n",
      "[I 2023-06-29 03:39:45,399] Trial 104 pruned. Trial was pruned at iteration 34.\n",
      "[I 2023-06-29 03:39:45,529] Trial 105 pruned. Trial was pruned at iteration 10.\n",
      "[I 2023-06-29 03:39:45,829] Trial 106 pruned. Trial was pruned at iteration 62.\n",
      "[I 2023-06-29 03:39:45,944] Trial 107 pruned. Trial was pruned at iteration 10.\n",
      "[I 2023-06-29 03:39:47,473] Trial 108 pruned. Trial was pruned at iteration 56.\n",
      "[I 2023-06-29 03:39:47,897] Trial 109 pruned. Trial was pruned at iteration 10.\n",
      "[I 2023-06-29 03:39:48,045] Trial 110 pruned. Trial was pruned at iteration 10.\n",
      "[I 2023-06-29 03:39:48,543] Trial 111 pruned. Trial was pruned at iteration 70.\n",
      "[I 2023-06-29 03:39:48,714] Trial 112 pruned. Trial was pruned at iteration 10.\n",
      "[I 2023-06-29 03:39:48,904] Trial 113 pruned. Trial was pruned at iteration 58.\n",
      "[I 2023-06-29 03:39:49,000] Trial 114 pruned. Trial was pruned at iteration 10.\n",
      "[I 2023-06-29 03:39:49,102] Trial 115 pruned. Trial was pruned at iteration 16.\n",
      "[I 2023-06-29 03:39:49,200] Trial 116 pruned. Trial was pruned at iteration 10.\n",
      "[I 2023-06-29 03:39:49,530] Trial 117 pruned. Trial was pruned at iteration 23.\n",
      "[I 2023-06-29 03:39:49,657] Trial 118 pruned. Trial was pruned at iteration 10.\n",
      "[I 2023-06-29 03:39:49,821] Trial 119 pruned. Trial was pruned at iteration 10.\n",
      "[I 2023-06-29 03:39:50,007] Trial 120 pruned. Trial was pruned at iteration 27.\n",
      "[I 2023-06-29 03:39:50,123] Trial 121 pruned. Trial was pruned at iteration 10.\n",
      "[I 2023-06-29 03:39:50,356] Trial 122 pruned. Trial was pruned at iteration 56.\n",
      "[I 2023-06-29 03:39:50,465] Trial 123 pruned. Trial was pruned at iteration 10.\n",
      "[I 2023-06-29 03:39:51,102] Trial 124 finished with value: 3939.3349335184416 and parameters: {'max_depth': 7, 'learning_rate': 0.27947905409651763, 'n_estimators': 450, 'min_child_weight': 9, 'gamma': 4.9, 'subsample': 0.95, 'colsample_bytree': 0.7, 'reg_alpha': 0.30000000000000004, 'reg_lambda': 0.4}. Best is trial 82 with value: 3807.648987942145.\n",
      "[I 2023-06-29 03:39:51,404] Trial 125 finished with value: 4086.9961823698522 and parameters: {'max_depth': 7, 'learning_rate': 0.33824302122433425, 'n_estimators': 418, 'min_child_weight': 10, 'gamma': 4.3999999999999995, 'subsample': 0.95, 'colsample_bytree': 0.65, 'reg_alpha': 0.30000000000000004, 'reg_lambda': 0.8}. Best is trial 82 with value: 3807.648987942145.\n",
      "[I 2023-06-29 03:39:51,659] Trial 126 pruned. Trial was pruned at iteration 34.\n",
      "[I 2023-06-29 03:39:51,887] Trial 127 pruned. Trial was pruned at iteration 76.\n",
      "[I 2023-06-29 03:39:52,076] Trial 128 pruned. Trial was pruned at iteration 68.\n",
      "[I 2023-06-29 03:39:52,238] Trial 129 pruned. Trial was pruned at iteration 41.\n",
      "[I 2023-06-29 03:39:54,666] Trial 130 pruned. Trial was pruned at iteration 22.\n",
      "[I 2023-06-29 03:39:55,339] Trial 131 pruned. Trial was pruned at iteration 15.\n",
      "[I 2023-06-29 03:39:55,467] Trial 132 pruned. Trial was pruned at iteration 10.\n",
      "[I 2023-06-29 03:39:55,632] Trial 133 pruned. Trial was pruned at iteration 10.\n",
      "[I 2023-06-29 03:39:55,771] Trial 134 pruned. Trial was pruned at iteration 10.\n",
      "[I 2023-06-29 03:40:01,014] Trial 135 pruned. Trial was pruned at iteration 70.\n",
      "[I 2023-06-29 03:40:01,532] Trial 136 pruned. Trial was pruned at iteration 90.\n",
      "[I 2023-06-29 03:40:01,799] Trial 137 pruned. Trial was pruned at iteration 10.\n",
      "[I 2023-06-29 03:40:02,096] Trial 138 pruned. Trial was pruned at iteration 10.\n",
      "[I 2023-06-29 03:40:02,254] Trial 139 pruned. Trial was pruned at iteration 10.\n",
      "[I 2023-06-29 03:40:02,539] Trial 140 pruned. Trial was pruned at iteration 10.\n",
      "[I 2023-06-29 03:40:02,740] Trial 141 pruned. Trial was pruned at iteration 50.\n",
      "[I 2023-06-29 03:40:05,160] Trial 142 pruned. Trial was pruned at iteration 90.\n",
      "[I 2023-06-29 03:40:05,434] Trial 143 pruned. Trial was pruned at iteration 56.\n",
      "[I 2023-06-29 03:40:05,936] Trial 144 pruned. Trial was pruned at iteration 90.\n",
      "[I 2023-06-29 03:40:06,137] Trial 145 pruned. Trial was pruned at iteration 40.\n",
      "[I 2023-06-29 03:40:06,375] Trial 146 pruned. Trial was pruned at iteration 56.\n",
      "[I 2023-06-29 03:40:06,623] Trial 147 pruned. Trial was pruned at iteration 72.\n",
      "[I 2023-06-29 03:40:06,744] Trial 148 pruned. Trial was pruned at iteration 24.\n",
      "[I 2023-06-29 03:40:06,848] Trial 149 pruned. Trial was pruned at iteration 10.\n",
      "[I 2023-06-29 03:40:06,968] Trial 150 pruned. Trial was pruned at iteration 10.\n",
      "[I 2023-06-29 03:40:07,074] Trial 151 pruned. Trial was pruned at iteration 10.\n",
      "[I 2023-06-29 03:40:07,269] Trial 152 pruned. Trial was pruned at iteration 42.\n",
      "[I 2023-06-29 03:40:07,375] Trial 153 pruned. Trial was pruned at iteration 10.\n",
      "[I 2023-06-29 03:40:07,503] Trial 154 pruned. Trial was pruned at iteration 10.\n",
      "[I 2023-06-29 03:40:07,623] Trial 155 pruned. Trial was pruned at iteration 10.\n",
      "[I 2023-06-29 03:40:08,083] Trial 156 pruned. Trial was pruned at iteration 72.\n",
      "[I 2023-06-29 03:40:08,435] Trial 157 pruned. Trial was pruned at iteration 10.\n",
      "[I 2023-06-29 03:40:08,842] Trial 158 finished with value: 3947.4791912139153 and parameters: {'max_depth': 4, 'learning_rate': 0.24257130795961257, 'n_estimators': 1085, 'min_child_weight': 8, 'gamma': 2.1, 'subsample': 0.95, 'colsample_bytree': 0.6, 'reg_alpha': 0.30000000000000004, 'reg_lambda': 0.1}. Best is trial 82 with value: 3807.648987942145.\n",
      "[I 2023-06-29 03:40:08,948] Trial 159 pruned. Trial was pruned at iteration 16.\n",
      "[I 2023-06-29 03:40:11,148] Trial 160 pruned. Trial was pruned at iteration 23.\n",
      "[I 2023-06-29 03:40:12,794] Trial 161 pruned. Trial was pruned at iteration 10.\n",
      "[I 2023-06-29 03:40:13,969] Trial 162 pruned. Trial was pruned at iteration 97.\n",
      "[I 2023-06-29 03:40:14,835] Trial 163 pruned. Trial was pruned at iteration 29.\n",
      "[I 2023-06-29 03:40:15,373] Trial 164 pruned. Trial was pruned at iteration 69.\n",
      "[I 2023-06-29 03:40:15,513] Trial 165 pruned. Trial was pruned at iteration 10.\n",
      "[I 2023-06-29 03:40:15,649] Trial 166 pruned. Trial was pruned at iteration 10.\n",
      "[I 2023-06-29 03:40:15,891] Trial 167 pruned. Trial was pruned at iteration 73.\n",
      "[I 2023-06-29 03:40:16,013] Trial 168 pruned. Trial was pruned at iteration 10.\n",
      "[I 2023-06-29 03:40:16,139] Trial 169 pruned. Trial was pruned at iteration 21.\n",
      "[I 2023-06-29 03:40:16,269] Trial 170 pruned. Trial was pruned at iteration 10.\n",
      "[I 2023-06-29 03:40:16,526] Trial 171 pruned. Trial was pruned at iteration 28.\n",
      "[I 2023-06-29 03:40:26,135] Trial 172 finished with value: 3929.9359505278103 and parameters: {'max_depth': 5, 'learning_rate': 0.14875598611745497, 'n_estimators': 185, 'min_child_weight': 13, 'gamma': 3.4000000000000004, 'subsample': 1.0, 'colsample_bytree': 0.7, 'reg_alpha': 0.30000000000000004, 'reg_lambda': 0.2}. Best is trial 82 with value: 3807.648987942145.\n",
      "[I 2023-06-29 03:40:31,683] Trial 173 finished with value: 3950.122512245427 and parameters: {'max_depth': 5, 'learning_rate': 0.15685852120713462, 'n_estimators': 217, 'min_child_weight': 13, 'gamma': 3.2, 'subsample': 1.0, 'colsample_bytree': 0.7, 'reg_alpha': 0.30000000000000004, 'reg_lambda': 0.1}. Best is trial 82 with value: 3807.648987942145.\n",
      "[I 2023-06-29 03:40:31,846] Trial 174 pruned. Trial was pruned at iteration 25.\n",
      "[I 2023-06-29 03:40:32,271] Trial 175 finished with value: 3912.767713834378 and parameters: {'max_depth': 5, 'learning_rate': 0.204057794250147, 'n_estimators': 472, 'min_child_weight': 14, 'gamma': 3.1, 'subsample': 1.0, 'colsample_bytree': 0.7, 'reg_alpha': 0.30000000000000004, 'reg_lambda': 0.1}. Best is trial 82 with value: 3807.648987942145.\n",
      "[I 2023-06-29 03:40:36,484] Trial 176 finished with value: 3923.176043441412 and parameters: {'max_depth': 5, 'learning_rate': 0.1851787931590978, 'n_estimators': 558, 'min_child_weight': 14, 'gamma': 3.2, 'subsample': 1.0, 'colsample_bytree': 0.7, 'reg_alpha': 0.30000000000000004, 'reg_lambda': 0.1}. Best is trial 82 with value: 3807.648987942145.\n",
      "[I 2023-06-29 03:40:36,884] Trial 177 finished with value: 3888.36080964634 and parameters: {'max_depth': 5, 'learning_rate': 0.19189930139993272, 'n_estimators': 219, 'min_child_weight': 14, 'gamma': 3.2, 'subsample': 1.0, 'colsample_bytree': 0.7, 'reg_alpha': 0.2, 'reg_lambda': 0.1}. Best is trial 82 with value: 3807.648987942145.\n",
      "[I 2023-06-29 03:40:37,408] Trial 178 pruned. Trial was pruned at iteration 18.\n",
      "[I 2023-06-29 03:40:38,531] Trial 179 pruned. Trial was pruned at iteration 66.\n",
      "[I 2023-06-29 03:40:39,414] Trial 180 pruned. Trial was pruned at iteration 20.\n",
      "[I 2023-06-29 03:40:39,544] Trial 181 pruned. Trial was pruned at iteration 10.\n",
      "[I 2023-06-29 03:40:39,676] Trial 182 pruned. Trial was pruned at iteration 19.\n",
      "[I 2023-06-29 03:40:39,793] Trial 183 pruned. Trial was pruned at iteration 10.\n",
      "[I 2023-06-29 03:40:40,378] Trial 184 pruned. Trial was pruned at iteration 47.\n",
      "[I 2023-06-29 03:40:40,730] Trial 185 pruned. Trial was pruned at iteration 85.\n",
      "[I 2023-06-29 03:40:40,931] Trial 186 pruned. Trial was pruned at iteration 10.\n",
      "[I 2023-06-29 03:40:41,392] Trial 187 pruned. Trial was pruned at iteration 69.\n",
      "[I 2023-06-29 03:40:41,502] Trial 188 pruned. Trial was pruned at iteration 10.\n",
      "[I 2023-06-29 03:40:41,681] Trial 189 pruned. Trial was pruned at iteration 41.\n",
      "[I 2023-06-29 03:40:41,984] Trial 190 pruned. Trial was pruned at iteration 10.\n",
      "[I 2023-06-29 03:40:42,116] Trial 191 pruned. Trial was pruned at iteration 10.\n",
      "[I 2023-06-29 03:40:42,292] Trial 192 pruned. Trial was pruned at iteration 10.\n",
      "[I 2023-06-29 03:40:42,714] Trial 193 pruned. Trial was pruned at iteration 10.\n",
      "[I 2023-06-29 03:40:45,930] Trial 194 pruned. Trial was pruned at iteration 103.\n",
      "[I 2023-06-29 03:40:46,433] Trial 195 pruned. Trial was pruned at iteration 10.\n",
      "[I 2023-06-29 03:40:46,647] Trial 196 pruned. Trial was pruned at iteration 10.\n",
      "[I 2023-06-29 03:40:47,073] Trial 197 finished with value: 3995.101525866635 and parameters: {'max_depth': 6, 'learning_rate': 0.2333934105043583, 'n_estimators': 394, 'min_child_weight': 8, 'gamma': 3.6, 'subsample': 0.95, 'colsample_bytree': 0.8500000000000001, 'reg_alpha': 0.1, 'reg_lambda': 0.5}. Best is trial 82 with value: 3807.648987942145.\n",
      "[I 2023-06-29 03:40:51,127] Trial 198 pruned. Trial was pruned at iteration 91.\n",
      "[I 2023-06-29 03:40:51,926] Trial 199 finished with value: 3970.6776789911432 and parameters: {'max_depth': 5, 'learning_rate': 0.31423579164119547, 'n_estimators': 348, 'min_child_weight': 8, 'gamma': 3.7, 'subsample': 0.95, 'colsample_bytree': 0.55, 'reg_alpha': 0.1, 'reg_lambda': 0.5}. Best is trial 82 with value: 3807.648987942145.\n",
      "[I 2023-06-29 03:40:52,318] Trial 200 pruned. Trial was pruned at iteration 68.\n",
      "[I 2023-06-29 03:40:52,493] Trial 201 pruned. Trial was pruned at iteration 26.\n",
      "[I 2023-06-29 03:40:52,731] Trial 202 pruned. Trial was pruned at iteration 77.\n",
      "[I 2023-06-29 03:40:53,417] Trial 203 pruned. Trial was pruned at iteration 18.\n",
      "[I 2023-06-29 03:40:53,634] Trial 204 pruned. Trial was pruned at iteration 30.\n",
      "[I 2023-06-29 03:40:53,810] Trial 205 pruned. Trial was pruned at iteration 32.\n",
      "[I 2023-06-29 03:40:54,985] Trial 206 pruned. Trial was pruned at iteration 13.\n",
      "[I 2023-06-29 03:40:55,478] Trial 207 pruned. Trial was pruned at iteration 32.\n",
      "[I 2023-06-29 03:40:59,836] Trial 208 pruned. Trial was pruned at iteration 40.\n",
      "[I 2023-06-29 03:40:59,995] Trial 209 pruned. Trial was pruned at iteration 19.\n",
      "[I 2023-06-29 03:41:00,126] Trial 210 pruned. Trial was pruned at iteration 10.\n",
      "[I 2023-06-29 03:41:00,585] Trial 211 pruned. Trial was pruned at iteration 10.\n",
      "[I 2023-06-29 03:41:00,717] Trial 212 pruned. Trial was pruned at iteration 10.\n",
      "[I 2023-06-29 03:41:00,863] Trial 213 pruned. Trial was pruned at iteration 10.\n",
      "[I 2023-06-29 03:41:03,165] Trial 214 finished with value: 3980.714525412495 and parameters: {'max_depth': 6, 'learning_rate': 0.18241900945283782, 'n_estimators': 525, 'min_child_weight': 13, 'gamma': 2.0, 'subsample': 0.7, 'colsample_bytree': 0.6, 'reg_alpha': 0.30000000000000004, 'reg_lambda': 0.1}. Best is trial 82 with value: 3807.648987942145.\n",
      "[I 2023-06-29 03:41:03,819] Trial 215 pruned. Trial was pruned at iteration 43.\n",
      "[I 2023-06-29 03:41:04,031] Trial 216 pruned. Trial was pruned at iteration 42.\n",
      "[I 2023-06-29 03:41:04,376] Trial 217 pruned. Trial was pruned at iteration 53.\n",
      "[I 2023-06-29 03:41:04,574] Trial 218 pruned. Trial was pruned at iteration 10.\n",
      "[I 2023-06-29 03:41:04,743] Trial 219 pruned. Trial was pruned at iteration 32.\n",
      "[I 2023-06-29 03:41:04,903] Trial 220 pruned. Trial was pruned at iteration 30.\n",
      "[I 2023-06-29 03:41:05,033] Trial 221 pruned. Trial was pruned at iteration 10.\n",
      "[I 2023-06-29 03:41:05,396] Trial 222 pruned. Trial was pruned at iteration 10.\n",
      "[I 2023-06-29 03:41:06,303] Trial 223 finished with value: 3932.5469517919823 and parameters: {'max_depth': 6, 'learning_rate': 0.1723105992627261, 'n_estimators': 669, 'min_child_weight': 8, 'gamma': 3.5000000000000004, 'subsample': 0.95, 'colsample_bytree': 0.5, 'reg_alpha': 0.30000000000000004, 'reg_lambda': 0.6000000000000001}. Best is trial 82 with value: 3807.648987942145.\n",
      "[I 2023-06-29 03:41:06,548] Trial 224 pruned. Trial was pruned at iteration 65.\n",
      "[I 2023-06-29 03:41:08,745] Trial 225 pruned. Trial was pruned at iteration 97.\n",
      "[I 2023-06-29 03:41:09,222] Trial 226 pruned. Trial was pruned at iteration 45.\n",
      "[I 2023-06-29 03:41:09,378] Trial 227 pruned. Trial was pruned at iteration 10.\n",
      "[I 2023-06-29 03:41:09,701] Trial 228 pruned. Trial was pruned at iteration 72.\n",
      "[I 2023-06-29 03:41:14,572] Trial 229 pruned. Trial was pruned at iteration 36.\n",
      "[I 2023-06-29 03:41:14,808] Trial 230 pruned. Trial was pruned at iteration 27.\n",
      "[I 2023-06-29 03:41:16,117] Trial 231 pruned. Trial was pruned at iteration 10.\n",
      "[I 2023-06-29 03:41:16,441] Trial 232 pruned. Trial was pruned at iteration 10.\n",
      "[I 2023-06-29 03:41:16,955] Trial 233 pruned. Trial was pruned at iteration 40.\n",
      "[I 2023-06-29 03:41:17,916] Trial 234 pruned. Trial was pruned at iteration 10.\n",
      "[I 2023-06-29 03:41:19,268] Trial 235 pruned. Trial was pruned at iteration 56.\n",
      "[I 2023-06-29 03:41:19,815] Trial 236 pruned. Trial was pruned at iteration 10.\n",
      "[I 2023-06-29 03:41:20,317] Trial 237 pruned. Trial was pruned at iteration 10.\n",
      "[I 2023-06-29 03:41:20,699] Trial 238 pruned. Trial was pruned at iteration 71.\n",
      "[I 2023-06-29 03:41:20,835] Trial 239 pruned. Trial was pruned at iteration 21.\n",
      "[I 2023-06-29 03:41:20,967] Trial 240 pruned. Trial was pruned at iteration 10.\n",
      "[I 2023-06-29 03:41:21,143] Trial 241 pruned. Trial was pruned at iteration 26.\n",
      "[I 2023-06-29 03:41:22,043] Trial 242 pruned. Trial was pruned at iteration 29.\n",
      "[I 2023-06-29 03:41:26,549] Trial 243 pruned. Trial was pruned at iteration 50.\n",
      "[I 2023-06-29 03:41:27,141] Trial 244 finished with value: 3822.80449880189 and parameters: {'max_depth': 5, 'learning_rate': 0.17706092199153048, 'n_estimators': 467, 'min_child_weight': 9, 'gamma': 3.3000000000000003, 'subsample': 0.95, 'colsample_bytree': 0.6, 'reg_alpha': 0.30000000000000004, 'reg_lambda': 0.8}. Best is trial 82 with value: 3807.648987942145.\n",
      "[I 2023-06-29 03:41:29,097] Trial 245 finished with value: 3817.9221348197307 and parameters: {'max_depth': 5, 'learning_rate': 0.1729482546969866, 'n_estimators': 530, 'min_child_weight': 9, 'gamma': 3.3000000000000003, 'subsample': 0.95, 'colsample_bytree': 0.6, 'reg_alpha': 0.30000000000000004, 'reg_lambda': 0.7000000000000001}. Best is trial 82 with value: 3807.648987942145.\n",
      "[I 2023-06-29 03:41:29,936] Trial 246 finished with value: 3841.1184853099944 and parameters: {'max_depth': 5, 'learning_rate': 0.1763376196502143, 'n_estimators': 552, 'min_child_weight': 9, 'gamma': 3.3000000000000003, 'subsample': 0.95, 'colsample_bytree': 0.6, 'reg_alpha': 0.30000000000000004, 'reg_lambda': 0.7000000000000001}. Best is trial 82 with value: 3807.648987942145.\n",
      "[I 2023-06-29 03:41:30,437] Trial 247 finished with value: 3882.441531016818 and parameters: {'max_depth': 5, 'learning_rate': 0.17686998012739685, 'n_estimators': 559, 'min_child_weight': 9, 'gamma': 3.3000000000000003, 'subsample': 0.95, 'colsample_bytree': 0.6, 'reg_alpha': 0.30000000000000004, 'reg_lambda': 0.7000000000000001}. Best is trial 82 with value: 3807.648987942145.\n",
      "[I 2023-06-29 03:41:30,753] Trial 248 pruned. Trial was pruned at iteration 10.\n",
      "[I 2023-06-29 03:41:31,118] Trial 249 pruned. Trial was pruned at iteration 10.\n",
      "[I 2023-06-29 03:41:31,470] Trial 250 pruned. Trial was pruned at iteration 11.\n",
      "[I 2023-06-29 03:41:31,641] Trial 251 pruned. Trial was pruned at iteration 10.\n",
      "[I 2023-06-29 03:41:31,797] Trial 252 pruned. Trial was pruned at iteration 10.\n",
      "[I 2023-06-29 03:41:32,167] Trial 253 pruned. Trial was pruned at iteration 20.\n",
      "[I 2023-06-29 03:41:32,369] Trial 254 pruned. Trial was pruned at iteration 10.\n",
      "[I 2023-06-29 03:41:32,750] Trial 255 pruned. Trial was pruned at iteration 95.\n",
      "[I 2023-06-29 03:41:33,022] Trial 256 pruned. Trial was pruned at iteration 12.\n",
      "[I 2023-06-29 03:41:33,184] Trial 257 pruned. Trial was pruned at iteration 10.\n",
      "[I 2023-06-29 03:41:33,316] Trial 258 pruned. Trial was pruned at iteration 10.\n",
      "[I 2023-06-29 03:41:33,435] Trial 259 pruned. Trial was pruned at iteration 10.\n",
      "[I 2023-06-29 03:41:33,562] Trial 260 pruned. Trial was pruned at iteration 10.\n",
      "[I 2023-06-29 03:41:33,832] Trial 261 pruned. Trial was pruned at iteration 11.\n",
      "[I 2023-06-29 03:41:34,002] Trial 262 pruned. Trial was pruned at iteration 10.\n",
      "[I 2023-06-29 03:41:34,169] Trial 263 pruned. Trial was pruned at iteration 10.\n",
      "[I 2023-06-29 03:41:34,372] Trial 264 pruned. Trial was pruned at iteration 25.\n",
      "[I 2023-06-29 03:41:34,893] Trial 265 pruned. Trial was pruned at iteration 41.\n",
      "[I 2023-06-29 03:41:35,049] Trial 266 pruned. Trial was pruned at iteration 10.\n",
      "[I 2023-06-29 03:41:35,183] Trial 267 pruned. Trial was pruned at iteration 10.\n",
      "[I 2023-06-29 03:41:36,037] Trial 268 pruned. Trial was pruned at iteration 65.\n",
      "[I 2023-06-29 03:41:36,263] Trial 269 pruned. Trial was pruned at iteration 41.\n",
      "[I 2023-06-29 03:41:36,432] Trial 270 pruned. Trial was pruned at iteration 10.\n",
      "[I 2023-06-29 03:41:36,677] Trial 271 pruned. Trial was pruned at iteration 28.\n",
      "[I 2023-06-29 03:41:36,816] Trial 272 pruned. Trial was pruned at iteration 10.\n",
      "[I 2023-06-29 03:41:36,965] Trial 273 pruned. Trial was pruned at iteration 24.\n",
      "[I 2023-06-29 03:41:37,091] Trial 274 pruned. Trial was pruned at iteration 10.\n",
      "[I 2023-06-29 03:41:37,242] Trial 275 pruned. Trial was pruned at iteration 36.\n",
      "[I 2023-06-29 03:41:37,374] Trial 276 pruned. Trial was pruned at iteration 10.\n",
      "[I 2023-06-29 03:41:37,614] Trial 277 pruned. Trial was pruned at iteration 10.\n",
      "[I 2023-06-29 03:41:39,414] Trial 278 pruned. Trial was pruned at iteration 75.\n",
      "[I 2023-06-29 03:41:39,539] Trial 279 pruned. Trial was pruned at iteration 10.\n",
      "[I 2023-06-29 03:41:39,667] Trial 280 pruned. Trial was pruned at iteration 10.\n",
      "[I 2023-06-29 03:41:39,784] Trial 281 pruned. Trial was pruned at iteration 10.\n",
      "[I 2023-06-29 03:41:39,913] Trial 282 pruned. Trial was pruned at iteration 10.\n",
      "[I 2023-06-29 03:41:40,042] Trial 283 pruned. Trial was pruned at iteration 12.\n",
      "[I 2023-06-29 03:41:40,275] Trial 284 pruned. Trial was pruned at iteration 10.\n",
      "[I 2023-06-29 03:41:41,282] Trial 285 pruned. Trial was pruned at iteration 30.\n",
      "[I 2023-06-29 03:41:42,111] Trial 286 pruned. Trial was pruned at iteration 10.\n",
      "[I 2023-06-29 03:41:50,099] Trial 287 pruned. Trial was pruned at iteration 96.\n",
      "[I 2023-06-29 03:41:50,326] Trial 288 pruned. Trial was pruned at iteration 25.\n",
      "[I 2023-06-29 03:41:54,614] Trial 289 finished with value: 3973.0483556102267 and parameters: {'max_depth': 7, 'learning_rate': 0.19850636156592427, 'n_estimators': 1141, 'min_child_weight': 9, 'gamma': 2.6, 'subsample': 1.0, 'colsample_bytree': 0.7, 'reg_alpha': 0.5, 'reg_lambda': 0.7000000000000001}. Best is trial 82 with value: 3807.648987942145.\n",
      "[I 2023-06-29 03:41:59,340] Trial 290 finished with value: 3971.517964267161 and parameters: {'max_depth': 7, 'learning_rate': 0.1991913377100031, 'n_estimators': 1132, 'min_child_weight': 9, 'gamma': 3.2, 'subsample': 1.0, 'colsample_bytree': 0.7, 'reg_alpha': 0.30000000000000004, 'reg_lambda': 0.7000000000000001}. Best is trial 82 with value: 3807.648987942145.\n",
      "[I 2023-06-29 03:41:59,604] Trial 291 pruned. Trial was pruned at iteration 35.\n",
      "[I 2023-06-29 03:41:59,848] Trial 292 pruned. Trial was pruned at iteration 41.\n",
      "[I 2023-06-29 03:41:59,986] Trial 293 pruned. Trial was pruned at iteration 10.\n",
      "[I 2023-06-29 03:42:03,638] Trial 294 pruned. Trial was pruned at iteration 107.\n",
      "[I 2023-06-29 03:42:03,791] Trial 295 pruned. Trial was pruned at iteration 10.\n",
      "[I 2023-06-29 03:42:03,939] Trial 296 pruned. Trial was pruned at iteration 10.\n",
      "[I 2023-06-29 03:42:04,289] Trial 297 pruned. Trial was pruned at iteration 10.\n",
      "[I 2023-06-29 03:42:04,474] Trial 298 pruned. Trial was pruned at iteration 26.\n",
      "[I 2023-06-29 03:42:04,626] Trial 299 pruned. Trial was pruned at iteration 17.\n",
      "[I 2023-06-29 03:42:04,967] Trial 300 pruned. Trial was pruned at iteration 10.\n",
      "[I 2023-06-29 03:42:05,127] Trial 301 pruned. Trial was pruned at iteration 10.\n",
      "[I 2023-06-29 03:42:05,283] Trial 302 pruned. Trial was pruned at iteration 10.\n",
      "[I 2023-06-29 03:42:05,438] Trial 303 pruned. Trial was pruned at iteration 26.\n",
      "[I 2023-06-29 03:42:05,580] Trial 304 pruned. Trial was pruned at iteration 10.\n",
      "[I 2023-06-29 03:42:06,323] Trial 305 pruned. Trial was pruned at iteration 10.\n",
      "[I 2023-06-29 03:42:08,396] Trial 306 pruned. Trial was pruned at iteration 29.\n",
      "[I 2023-06-29 03:42:10,340] Trial 307 finished with value: 3904.514902295021 and parameters: {'max_depth': 5, 'learning_rate': 0.20069095810321877, 'n_estimators': 564, 'min_child_weight': 8, 'gamma': 2.9000000000000004, 'subsample': 0.9, 'colsample_bytree': 0.65, 'reg_alpha': 0.1, 'reg_lambda': 0.7000000000000001}. Best is trial 82 with value: 3807.648987942145.\n",
      "[I 2023-06-29 03:42:10,498] Trial 308 pruned. Trial was pruned at iteration 10.\n",
      "[I 2023-06-29 03:42:10,629] Trial 309 pruned. Trial was pruned at iteration 10.\n",
      "[I 2023-06-29 03:42:10,931] Trial 310 pruned. Trial was pruned at iteration 10.\n",
      "[I 2023-06-29 03:42:11,086] Trial 311 pruned. Trial was pruned at iteration 10.\n",
      "[I 2023-06-29 03:42:11,231] Trial 312 pruned. Trial was pruned at iteration 10.\n",
      "[I 2023-06-29 03:42:11,362] Trial 313 pruned. Trial was pruned at iteration 10.\n",
      "[I 2023-06-29 03:42:11,510] Trial 314 pruned. Trial was pruned at iteration 24.\n",
      "[I 2023-06-29 03:42:11,677] Trial 315 pruned. Trial was pruned at iteration 10.\n",
      "[I 2023-06-29 03:42:14,321] Trial 316 finished with value: 3874.642950781575 and parameters: {'max_depth': 5, 'learning_rate': 0.21570518809876368, 'n_estimators': 639, 'min_child_weight': 8, 'gamma': 3.5000000000000004, 'subsample': 0.95, 'colsample_bytree': 0.6, 'reg_alpha': 0.2, 'reg_lambda': 0.0}. Best is trial 82 with value: 3807.648987942145.\n",
      "[I 2023-06-29 03:42:14,702] Trial 317 pruned. Trial was pruned at iteration 10.\n",
      "[I 2023-06-29 03:42:15,073] Trial 318 pruned. Trial was pruned at iteration 94.\n",
      "[I 2023-06-29 03:42:15,873] Trial 319 finished with value: 3918.2669789244555 and parameters: {'max_depth': 5, 'learning_rate': 0.20791878787722345, 'n_estimators': 658, 'min_child_weight': 7, 'gamma': 3.4000000000000004, 'subsample': 0.95, 'colsample_bytree': 0.65, 'reg_alpha': 0.2, 'reg_lambda': 0.0}. Best is trial 82 with value: 3807.648987942145.\n",
      "[I 2023-06-29 03:42:16,049] Trial 320 pruned. Trial was pruned at iteration 11.\n",
      "[I 2023-06-29 03:42:16,196] Trial 321 pruned. Trial was pruned at iteration 10.\n",
      "[I 2023-06-29 03:42:16,357] Trial 322 pruned. Trial was pruned at iteration 10.\n",
      "[I 2023-06-29 03:42:16,696] Trial 323 pruned. Trial was pruned at iteration 10.\n",
      "[I 2023-06-29 03:42:16,901] Trial 324 pruned. Trial was pruned at iteration 40.\n",
      "[I 2023-06-29 03:42:17,039] Trial 325 pruned. Trial was pruned at iteration 10.\n",
      "[I 2023-06-29 03:42:17,311] Trial 326 pruned. Trial was pruned at iteration 10.\n",
      "[I 2023-06-29 03:42:17,640] Trial 327 pruned. Trial was pruned at iteration 10.\n",
      "[I 2023-06-29 03:42:18,067] Trial 328 pruned. Trial was pruned at iteration 46.\n",
      "[I 2023-06-29 03:42:18,327] Trial 329 pruned. Trial was pruned at iteration 11.\n",
      "[I 2023-06-29 03:42:21,249] Trial 330 pruned. Trial was pruned at iteration 10.\n",
      "[I 2023-06-29 03:42:24,634] Trial 331 finished with value: 3873.448489078398 and parameters: {'max_depth': 6, 'learning_rate': 0.16169459880773884, 'n_estimators': 1634, 'min_child_weight': 7, 'gamma': 3.2, 'subsample': 0.95, 'colsample_bytree': 0.65, 'reg_alpha': 0.2, 'reg_lambda': 0.1}. Best is trial 82 with value: 3807.648987942145.\n",
      "[I 2023-06-29 03:42:24,903] Trial 332 pruned. Trial was pruned at iteration 10.\n",
      "[I 2023-06-29 03:42:27,874] Trial 333 pruned. Trial was pruned at iteration 121.\n",
      "[I 2023-06-29 03:42:28,108] Trial 334 pruned. Trial was pruned at iteration 10.\n",
      "[I 2023-06-29 03:42:28,331] Trial 335 pruned. Trial was pruned at iteration 42.\n",
      "[I 2023-06-29 03:42:28,523] Trial 336 pruned. Trial was pruned at iteration 29.\n",
      "[I 2023-06-29 03:42:28,666] Trial 337 pruned. Trial was pruned at iteration 10.\n",
      "[I 2023-06-29 03:42:28,802] Trial 338 pruned. Trial was pruned at iteration 10.\n",
      "[I 2023-06-29 03:42:29,058] Trial 339 pruned. Trial was pruned at iteration 40.\n",
      "[I 2023-06-29 03:42:29,314] Trial 340 pruned. Trial was pruned at iteration 10.\n",
      "[I 2023-06-29 03:42:29,619] Trial 341 pruned. Trial was pruned at iteration 16.\n",
      "[I 2023-06-29 03:42:29,828] Trial 342 pruned. Trial was pruned at iteration 10.\n",
      "[I 2023-06-29 03:42:29,975] Trial 343 pruned. Trial was pruned at iteration 10.\n",
      "[I 2023-06-29 03:42:30,118] Trial 344 pruned. Trial was pruned at iteration 10.\n",
      "[I 2023-06-29 03:42:30,276] Trial 345 pruned. Trial was pruned at iteration 27.\n",
      "[I 2023-06-29 03:42:30,435] Trial 346 pruned. Trial was pruned at iteration 15.\n",
      "[I 2023-06-29 03:42:30,594] Trial 347 pruned. Trial was pruned at iteration 18.\n",
      "[I 2023-06-29 03:42:30,911] Trial 348 pruned. Trial was pruned at iteration 10.\n",
      "[I 2023-06-29 03:42:31,063] Trial 349 pruned. Trial was pruned at iteration 10.\n",
      "[I 2023-06-29 03:42:31,416] Trial 350 pruned. Trial was pruned at iteration 29.\n",
      "[I 2023-06-29 03:42:31,582] Trial 351 pruned. Trial was pruned at iteration 10.\n",
      "[I 2023-06-29 03:42:31,732] Trial 352 pruned. Trial was pruned at iteration 12.\n",
      "[I 2023-06-29 03:42:31,876] Trial 353 pruned. Trial was pruned at iteration 10.\n",
      "[I 2023-06-29 03:42:32,219] Trial 354 pruned. Trial was pruned at iteration 10.\n",
      "[I 2023-06-29 03:42:32,436] Trial 355 pruned. Trial was pruned at iteration 40.\n",
      "[I 2023-06-29 03:42:32,579] Trial 356 pruned. Trial was pruned at iteration 10.\n",
      "[I 2023-06-29 03:42:32,716] Trial 357 pruned. Trial was pruned at iteration 10.\n",
      "[I 2023-06-29 03:42:32,854] Trial 358 pruned. Trial was pruned at iteration 10.\n",
      "[I 2023-06-29 03:42:33,108] Trial 359 pruned. Trial was pruned at iteration 12.\n",
      "[I 2023-06-29 03:42:33,281] Trial 360 pruned. Trial was pruned at iteration 10.\n",
      "[I 2023-06-29 03:42:33,440] Trial 361 pruned. Trial was pruned at iteration 16.\n",
      "[I 2023-06-29 03:42:33,776] Trial 362 pruned. Trial was pruned at iteration 10.\n",
      "[I 2023-06-29 03:42:33,945] Trial 363 pruned. Trial was pruned at iteration 10.\n",
      "[I 2023-06-29 03:42:34,114] Trial 364 pruned. Trial was pruned at iteration 10.\n",
      "[I 2023-06-29 03:42:34,437] Trial 365 pruned. Trial was pruned at iteration 29.\n",
      "[I 2023-06-29 03:42:34,804] Trial 366 pruned. Trial was pruned at iteration 53.\n",
      "[I 2023-06-29 03:42:35,048] Trial 367 pruned. Trial was pruned at iteration 10.\n",
      "[I 2023-06-29 03:42:35,247] Trial 368 pruned. Trial was pruned at iteration 15.\n",
      "[I 2023-06-29 03:42:35,406] Trial 369 pruned. Trial was pruned at iteration 10.\n",
      "[I 2023-06-29 03:42:36,016] Trial 370 pruned. Trial was pruned at iteration 31.\n",
      "[I 2023-06-29 03:42:36,176] Trial 371 pruned. Trial was pruned at iteration 10.\n",
      "[I 2023-06-29 03:42:36,319] Trial 372 pruned. Trial was pruned at iteration 10.\n",
      "[I 2023-06-29 03:42:36,508] Trial 373 pruned. Trial was pruned at iteration 24.\n",
      "[I 2023-06-29 03:42:36,763] Trial 374 pruned. Trial was pruned at iteration 10.\n",
      "[I 2023-06-29 03:42:38,318] Trial 375 pruned. Trial was pruned at iteration 19.\n",
      "[I 2023-06-29 03:42:38,712] Trial 376 pruned. Trial was pruned at iteration 10.\n",
      "[I 2023-06-29 03:42:38,908] Trial 377 pruned. Trial was pruned at iteration 10.\n",
      "[I 2023-06-29 03:42:39,246] Trial 378 pruned. Trial was pruned at iteration 16.\n",
      "[I 2023-06-29 03:42:39,543] Trial 379 pruned. Trial was pruned at iteration 10.\n",
      "[I 2023-06-29 03:42:41,116] Trial 380 pruned. Trial was pruned at iteration 10.\n",
      "[I 2023-06-29 03:42:41,852] Trial 381 pruned. Trial was pruned at iteration 10.\n",
      "[I 2023-06-29 03:42:42,087] Trial 382 pruned. Trial was pruned at iteration 10.\n",
      "[I 2023-06-29 03:42:42,389] Trial 383 pruned. Trial was pruned at iteration 10.\n",
      "[I 2023-06-29 03:42:42,587] Trial 384 pruned. Trial was pruned at iteration 13.\n",
      "[I 2023-06-29 03:42:42,754] Trial 385 pruned. Trial was pruned at iteration 10.\n",
      "[I 2023-06-29 03:42:42,911] Trial 386 pruned. Trial was pruned at iteration 10.\n",
      "[I 2023-06-29 03:42:43,696] Trial 387 pruned. Trial was pruned at iteration 15.\n",
      "[I 2023-06-29 03:42:44,111] Trial 388 pruned. Trial was pruned at iteration 24.\n",
      "[I 2023-06-29 03:42:44,303] Trial 389 pruned. Trial was pruned at iteration 10.\n",
      "[I 2023-06-29 03:42:44,468] Trial 390 pruned. Trial was pruned at iteration 10.\n",
      "[I 2023-06-29 03:42:44,621] Trial 391 pruned. Trial was pruned at iteration 10.\n",
      "[I 2023-06-29 03:42:44,789] Trial 392 pruned. Trial was pruned at iteration 21.\n",
      "[I 2023-06-29 03:42:44,947] Trial 393 pruned. Trial was pruned at iteration 10.\n",
      "[I 2023-06-29 03:42:45,105] Trial 394 pruned. Trial was pruned at iteration 10.\n",
      "[I 2023-06-29 03:42:45,252] Trial 395 pruned. Trial was pruned at iteration 10.\n",
      "[I 2023-06-29 03:42:45,397] Trial 396 pruned. Trial was pruned at iteration 10.\n",
      "[I 2023-06-29 03:42:45,813] Trial 397 pruned. Trial was pruned at iteration 45.\n",
      "[I 2023-06-29 03:42:46,001] Trial 398 pruned. Trial was pruned at iteration 10.\n",
      "[I 2023-06-29 03:42:46,155] Trial 399 pruned. Trial was pruned at iteration 10.\n",
      "[I 2023-06-29 03:42:46,418] Trial 400 pruned. Trial was pruned at iteration 10.\n",
      "[I 2023-06-29 03:42:46,686] Trial 401 pruned. Trial was pruned at iteration 15.\n",
      "[I 2023-06-29 03:42:47,079] Trial 402 pruned. Trial was pruned at iteration 19.\n",
      "[I 2023-06-29 03:42:47,823] Trial 403 pruned. Trial was pruned at iteration 10.\n",
      "[I 2023-06-29 03:42:48,269] Trial 404 pruned. Trial was pruned at iteration 10.\n",
      "[I 2023-06-29 03:42:48,447] Trial 405 pruned. Trial was pruned at iteration 10.\n",
      "[I 2023-06-29 03:42:48,612] Trial 406 pruned. Trial was pruned at iteration 10.\n",
      "[I 2023-06-29 03:42:48,771] Trial 407 pruned. Trial was pruned at iteration 10.\n",
      "[I 2023-06-29 03:42:49,310] Trial 408 pruned. Trial was pruned at iteration 10.\n",
      "[I 2023-06-29 03:42:49,517] Trial 409 pruned. Trial was pruned at iteration 10.\n",
      "[I 2023-06-29 03:42:49,825] Trial 410 pruned. Trial was pruned at iteration 26.\n",
      "[I 2023-06-29 03:42:50,076] Trial 411 pruned. Trial was pruned at iteration 17.\n",
      "[I 2023-06-29 03:42:50,520] Trial 412 pruned. Trial was pruned at iteration 50.\n",
      "[I 2023-06-29 03:42:50,786] Trial 413 pruned. Trial was pruned at iteration 12.\n",
      "[I 2023-06-29 03:42:51,087] Trial 414 pruned. Trial was pruned at iteration 10.\n",
      "[I 2023-06-29 03:42:51,473] Trial 415 pruned. Trial was pruned at iteration 26.\n",
      "[I 2023-06-29 03:42:51,681] Trial 416 pruned. Trial was pruned at iteration 10.\n",
      "[I 2023-06-29 03:42:51,923] Trial 417 pruned. Trial was pruned at iteration 10.\n",
      "[I 2023-06-29 03:42:52,132] Trial 418 pruned. Trial was pruned at iteration 20.\n",
      "[I 2023-06-29 03:42:52,289] Trial 419 pruned. Trial was pruned at iteration 10.\n",
      "[I 2023-06-29 03:42:52,469] Trial 420 pruned. Trial was pruned at iteration 15.\n",
      "[I 2023-06-29 03:42:52,644] Trial 421 pruned. Trial was pruned at iteration 10.\n",
      "[I 2023-06-29 03:42:52,842] Trial 422 pruned. Trial was pruned at iteration 10.\n",
      "[I 2023-06-29 03:42:53,002] Trial 423 pruned. Trial was pruned at iteration 10.\n",
      "[I 2023-06-29 03:42:53,308] Trial 424 pruned. Trial was pruned at iteration 11.\n",
      "[I 2023-06-29 03:42:53,484] Trial 425 pruned. Trial was pruned at iteration 10.\n",
      "[I 2023-06-29 03:42:53,645] Trial 426 pruned. Trial was pruned at iteration 10.\n",
      "[I 2023-06-29 03:42:53,949] Trial 427 pruned. Trial was pruned at iteration 10.\n",
      "[I 2023-06-29 03:42:54,188] Trial 428 pruned. Trial was pruned at iteration 11.\n",
      "[I 2023-06-29 03:42:54,424] Trial 429 pruned. Trial was pruned at iteration 48.\n",
      "[I 2023-06-29 03:42:54,583] Trial 430 pruned. Trial was pruned at iteration 10.\n",
      "[I 2023-06-29 03:42:54,914] Trial 431 pruned. Trial was pruned at iteration 19.\n",
      "[I 2023-06-29 03:42:55,088] Trial 432 pruned. Trial was pruned at iteration 10.\n",
      "[I 2023-06-29 03:42:55,318] Trial 433 pruned. Trial was pruned at iteration 10.\n",
      "[I 2023-06-29 03:42:55,543] Trial 434 pruned. Trial was pruned at iteration 50.\n",
      "[I 2023-06-29 03:42:55,701] Trial 435 pruned. Trial was pruned at iteration 10.\n",
      "[I 2023-06-29 03:42:56,497] Trial 436 pruned. Trial was pruned at iteration 18.\n",
      "[I 2023-06-29 03:42:57,015] Trial 437 pruned. Trial was pruned at iteration 10.\n",
      "[I 2023-06-29 03:42:57,201] Trial 438 pruned. Trial was pruned at iteration 10.\n",
      "[I 2023-06-29 03:42:57,611] Trial 439 pruned. Trial was pruned at iteration 19.\n",
      "[I 2023-06-29 03:42:57,788] Trial 440 pruned. Trial was pruned at iteration 10.\n",
      "[I 2023-06-29 03:42:58,176] Trial 441 pruned. Trial was pruned at iteration 105.\n",
      "[I 2023-06-29 03:42:58,341] Trial 442 pruned. Trial was pruned at iteration 10.\n",
      "[I 2023-06-29 03:42:58,580] Trial 443 pruned. Trial was pruned at iteration 10.\n",
      "[I 2023-06-29 03:42:58,755] Trial 444 pruned. Trial was pruned at iteration 23.\n",
      "[I 2023-06-29 03:42:58,920] Trial 445 pruned. Trial was pruned at iteration 10.\n",
      "[I 2023-06-29 03:42:59,177] Trial 446 pruned. Trial was pruned at iteration 10.\n",
      "[I 2023-06-29 03:42:59,351] Trial 447 pruned. Trial was pruned at iteration 14.\n",
      "[I 2023-06-29 03:42:59,516] Trial 448 pruned. Trial was pruned at iteration 10.\n",
      "[I 2023-06-29 03:42:59,740] Trial 449 pruned. Trial was pruned at iteration 19.\n",
      "[I 2023-06-29 03:42:59,907] Trial 450 pruned. Trial was pruned at iteration 10.\n",
      "[I 2023-06-29 03:43:00,180] Trial 451 pruned. Trial was pruned at iteration 10.\n",
      "[I 2023-06-29 03:43:00,345] Trial 452 pruned. Trial was pruned at iteration 10.\n",
      "[I 2023-06-29 03:43:00,515] Trial 453 pruned. Trial was pruned at iteration 10.\n",
      "[I 2023-06-29 03:43:00,778] Trial 454 pruned. Trial was pruned at iteration 10.\n",
      "[I 2023-06-29 03:43:01,045] Trial 455 pruned. Trial was pruned at iteration 10.\n",
      "[I 2023-06-29 03:43:01,341] Trial 456 pruned. Trial was pruned at iteration 10.\n",
      "[I 2023-06-29 03:43:01,582] Trial 457 pruned. Trial was pruned at iteration 11.\n",
      "[I 2023-06-29 03:43:01,850] Trial 458 pruned. Trial was pruned at iteration 10.\n",
      "[I 2023-06-29 03:43:02,043] Trial 459 pruned. Trial was pruned at iteration 10.\n",
      "[I 2023-06-29 03:43:02,209] Trial 460 pruned. Trial was pruned at iteration 10.\n",
      "[I 2023-06-29 03:43:02,382] Trial 461 pruned. Trial was pruned at iteration 10.\n",
      "[I 2023-06-29 03:43:02,681] Trial 462 pruned. Trial was pruned at iteration 10.\n",
      "[I 2023-06-29 03:43:02,844] Trial 463 pruned. Trial was pruned at iteration 12.\n",
      "[I 2023-06-29 03:43:03,008] Trial 464 pruned. Trial was pruned at iteration 10.\n",
      "[I 2023-06-29 03:43:03,191] Trial 465 pruned. Trial was pruned at iteration 18.\n",
      "[I 2023-06-29 03:43:03,366] Trial 466 pruned. Trial was pruned at iteration 18.\n",
      "[I 2023-06-29 03:43:03,543] Trial 467 pruned. Trial was pruned at iteration 20.\n",
      "[I 2023-06-29 03:43:03,708] Trial 468 pruned. Trial was pruned at iteration 10.\n",
      "[I 2023-06-29 03:43:03,979] Trial 469 pruned. Trial was pruned at iteration 10.\n",
      "[I 2023-06-29 03:43:04,215] Trial 470 pruned. Trial was pruned at iteration 10.\n",
      "[I 2023-06-29 03:43:05,018] Trial 471 pruned. Trial was pruned at iteration 10.\n",
      "[I 2023-06-29 03:43:05,509] Trial 472 pruned. Trial was pruned at iteration 17.\n",
      "[I 2023-06-29 03:43:05,712] Trial 473 pruned. Trial was pruned at iteration 13.\n",
      "[I 2023-06-29 03:43:06,153] Trial 474 pruned. Trial was pruned at iteration 10.\n",
      "[I 2023-06-29 03:43:06,376] Trial 475 pruned. Trial was pruned at iteration 10.\n",
      "[I 2023-06-29 03:43:06,664] Trial 476 pruned. Trial was pruned at iteration 17.\n",
      "[I 2023-06-29 03:43:06,859] Trial 477 pruned. Trial was pruned at iteration 10.\n",
      "[I 2023-06-29 03:43:07,039] Trial 478 pruned. Trial was pruned at iteration 14.\n",
      "[I 2023-06-29 03:43:07,210] Trial 479 pruned. Trial was pruned at iteration 10.\n",
      "[I 2023-06-29 03:43:07,371] Trial 480 pruned. Trial was pruned at iteration 10.\n",
      "[I 2023-06-29 03:43:07,559] Trial 481 pruned. Trial was pruned at iteration 10.\n",
      "[I 2023-06-29 03:43:07,734] Trial 482 pruned. Trial was pruned at iteration 10.\n",
      "[I 2023-06-29 03:43:07,972] Trial 483 pruned. Trial was pruned at iteration 10.\n",
      "[I 2023-06-29 03:43:08,219] Trial 484 pruned. Trial was pruned at iteration 10.\n",
      "[I 2023-06-29 03:43:08,386] Trial 485 pruned. Trial was pruned at iteration 13.\n",
      "[I 2023-06-29 03:43:08,750] Trial 486 pruned. Trial was pruned at iteration 10.\n",
      "[I 2023-06-29 03:43:09,153] Trial 487 pruned. Trial was pruned at iteration 27.\n",
      "[I 2023-06-29 03:43:09,340] Trial 488 pruned. Trial was pruned at iteration 10.\n",
      "[I 2023-06-29 03:43:09,512] Trial 489 pruned. Trial was pruned at iteration 10.\n",
      "[I 2023-06-29 03:43:11,913] Trial 490 pruned. Trial was pruned at iteration 50.\n",
      "[I 2023-06-29 03:43:12,157] Trial 491 pruned. Trial was pruned at iteration 10.\n",
      "[I 2023-06-29 03:43:12,328] Trial 492 pruned. Trial was pruned at iteration 10.\n",
      "[I 2023-06-29 03:43:12,499] Trial 493 pruned. Trial was pruned at iteration 10.\n",
      "[I 2023-06-29 03:43:12,712] Trial 494 pruned. Trial was pruned at iteration 32.\n",
      "[I 2023-06-29 03:43:13,198] Trial 495 pruned. Trial was pruned at iteration 10.\n",
      "[I 2023-06-29 03:43:13,378] Trial 496 pruned. Trial was pruned at iteration 10.\n",
      "[I 2023-06-29 03:43:13,684] Trial 497 pruned. Trial was pruned at iteration 10.\n",
      "[I 2023-06-29 03:43:13,910] Trial 498 pruned. Trial was pruned at iteration 16.\n",
      "[I 2023-06-29 03:43:14,308] Trial 499 pruned. Trial was pruned at iteration 54.\n"
     ]
    },
    {
     "name": "stdout",
     "output_type": "stream",
     "text": [
      "Best trial: {'max_depth': 6, 'learning_rate': 0.1341702126383532, 'n_estimators': 551, 'min_child_weight': 10, 'gamma': 4.3999999999999995, 'subsample': 0.95, 'colsample_bytree': 0.55, 'reg_alpha': 0.2, 'reg_lambda': 0.7000000000000001}\n"
     ]
    }
   ],
   "source": [
    "# 目的関数の定義\n",
    "def objective(trial):\n",
    "    params = {\n",
    "        'max_depth': trial.suggest_int('max_depth', 1, 20),  # max_depthを1から20の範囲に拡大\n",
    "        'learning_rate': trial.suggest_loguniform('learning_rate', 0.00001, 1.0),  # learning_rateを0.00001から1.0の範囲に拡大\n",
    "        'n_estimators': trial.suggest_int('n_estimators', 50, 2000),  # n_estimatorsを50から2000の範囲に拡大\n",
    "        'min_child_weight': trial.suggest_int('min_child_weight', 1, 20),  # min_child_weightを1から20の範囲に拡大\n",
    "        'gamma': trial.suggest_discrete_uniform('gamma', 0.1, 5, 0.1),  # gammaを0.1から5の範囲に拡大\n",
    "        'subsample': trial.suggest_discrete_uniform('subsample', 0.5, 1.0, 0.05),  # subsampleを0.5から1.0の範囲に拡大\n",
    "        'colsample_bytree': trial.suggest_discrete_uniform('colsample_bytree', 0.5, 1.0, 0.05),  # colsample_bytreeを0.5から1.0の範囲に拡大\n",
    "        'reg_alpha': trial.suggest_discrete_uniform('reg_alpha', 0.0, 1.0, 0.1),  # reg_alphaを0.0から1.0の範囲に拡大\n",
    "        'reg_lambda': trial.suggest_discrete_uniform('reg_lambda', 0.0, 1.0, 0.1)  # reg_lambdaを0.0から1.0の範囲に拡大\n",
    "    }\n",
    "    model = xgb.XGBRegressor(**params, random_state=42)\n",
    "    model.fit(X_train, y_train, eval_set=[(X_val, y_val)], early_stopping_rounds=50, verbose=False,\n",
    "              callbacks=[XGBoostPruningCallback(trial, 'validation_0-rmse')])\n",
    "    preds = model.predict(X_val)\n",
    "    rmse = np.sqrt(mean_squared_error(y_val, preds))\n",
    "    return rmse\n",
    "\n",
    "# 最適化の実行\n",
    "study = optuna.create_study(direction='minimize', pruner=optuna.pruners.MedianPruner(n_warmup_steps=10))\n",
    "study.optimize(objective, n_trials=500, timeout=1800)  # n_trialsを200に増やし、timeoutを7200秒に増やす\n",
    "\n",
    "# 最適なパラメータの出力\n",
    "print('Best trial:', study.best_trial.params)"
   ]
  },
  {
   "cell_type": "code",
   "execution_count": 16,
   "metadata": {},
   "outputs": [
    {
     "data": {
      "application/vnd.plotly.v1+json": {
       "config": {
        "plotlyServerURL": "https://plot.ly"
       },
       "data": [
        {
         "mode": "markers",
         "name": "Objective Value",
         "type": "scatter",
         "x": [
          0,
          1,
          2,
          3,
          4,
          5,
          8,
          10,
          11,
          12,
          13,
          16,
          18,
          20,
          21,
          32,
          41,
          55,
          61,
          72,
          81,
          82,
          124,
          125,
          158,
          172,
          173,
          175,
          176,
          177,
          197,
          199,
          214,
          223,
          244,
          245,
          246,
          247,
          289,
          290,
          307,
          316,
          319,
          331
         ],
         "y": [
          19167.781025277473,
          18984.11079443262,
          5327.714062169808,
          8764.405677407327,
          5611.28915378101,
          4708.220971211038,
          3904.2009540177346,
          4405.066819838157,
          4757.438344442866,
          4096.632604554073,
          4063.1121711844603,
          3942.998005279223,
          3978.1596263660253,
          3928.020832211872,
          3904.704555301261,
          3945.7900834328466,
          3956.4216623097996,
          3971.3810137953433,
          3916.424763613492,
          3856.9172496561455,
          3902.678551910212,
          3807.648987942145,
          3939.3349335184416,
          4086.9961823698522,
          3947.4791912139153,
          3929.9359505278103,
          3950.122512245427,
          3912.767713834378,
          3923.176043441412,
          3888.36080964634,
          3995.101525866635,
          3970.6776789911432,
          3980.714525412495,
          3932.5469517919823,
          3822.80449880189,
          3817.9221348197307,
          3841.1184853099944,
          3882.441531016818,
          3973.0483556102267,
          3971.517964267161,
          3904.514902295021,
          3874.642950781575,
          3918.2669789244555,
          3873.448489078398
         ]
        },
        {
         "name": "Best Value",
         "type": "scatter",
         "x": [
          0,
          1,
          2,
          3,
          4,
          5,
          8,
          10,
          11,
          12,
          13,
          16,
          18,
          20,
          21,
          32,
          41,
          55,
          61,
          72,
          81,
          82,
          124,
          125,
          158,
          172,
          173,
          175,
          176,
          177,
          197,
          199,
          214,
          223,
          244,
          245,
          246,
          247,
          289,
          290,
          307,
          316,
          319,
          331
         ],
         "y": [
          19167.781025277473,
          18984.11079443262,
          5327.714062169808,
          5327.714062169808,
          5327.714062169808,
          4708.220971211038,
          3904.2009540177346,
          3904.2009540177346,
          3904.2009540177346,
          3904.2009540177346,
          3904.2009540177346,
          3904.2009540177346,
          3904.2009540177346,
          3904.2009540177346,
          3904.2009540177346,
          3904.2009540177346,
          3904.2009540177346,
          3904.2009540177346,
          3904.2009540177346,
          3856.9172496561455,
          3856.9172496561455,
          3807.648987942145,
          3807.648987942145,
          3807.648987942145,
          3807.648987942145,
          3807.648987942145,
          3807.648987942145,
          3807.648987942145,
          3807.648987942145,
          3807.648987942145,
          3807.648987942145,
          3807.648987942145,
          3807.648987942145,
          3807.648987942145,
          3807.648987942145,
          3807.648987942145,
          3807.648987942145,
          3807.648987942145,
          3807.648987942145,
          3807.648987942145,
          3807.648987942145,
          3807.648987942145,
          3807.648987942145,
          3807.648987942145
         ]
        }
       ],
       "layout": {
        "template": {
         "data": {
          "bar": [
           {
            "error_x": {
             "color": "#2a3f5f"
            },
            "error_y": {
             "color": "#2a3f5f"
            },
            "marker": {
             "line": {
              "color": "#E5ECF6",
              "width": 0.5
             },
             "pattern": {
              "fillmode": "overlay",
              "size": 10,
              "solidity": 0.2
             }
            },
            "type": "bar"
           }
          ],
          "barpolar": [
           {
            "marker": {
             "line": {
              "color": "#E5ECF6",
              "width": 0.5
             },
             "pattern": {
              "fillmode": "overlay",
              "size": 10,
              "solidity": 0.2
             }
            },
            "type": "barpolar"
           }
          ],
          "carpet": [
           {
            "aaxis": {
             "endlinecolor": "#2a3f5f",
             "gridcolor": "white",
             "linecolor": "white",
             "minorgridcolor": "white",
             "startlinecolor": "#2a3f5f"
            },
            "baxis": {
             "endlinecolor": "#2a3f5f",
             "gridcolor": "white",
             "linecolor": "white",
             "minorgridcolor": "white",
             "startlinecolor": "#2a3f5f"
            },
            "type": "carpet"
           }
          ],
          "choropleth": [
           {
            "colorbar": {
             "outlinewidth": 0,
             "ticks": ""
            },
            "type": "choropleth"
           }
          ],
          "contour": [
           {
            "colorbar": {
             "outlinewidth": 0,
             "ticks": ""
            },
            "colorscale": [
             [
              0,
              "#0d0887"
             ],
             [
              0.1111111111111111,
              "#46039f"
             ],
             [
              0.2222222222222222,
              "#7201a8"
             ],
             [
              0.3333333333333333,
              "#9c179e"
             ],
             [
              0.4444444444444444,
              "#bd3786"
             ],
             [
              0.5555555555555556,
              "#d8576b"
             ],
             [
              0.6666666666666666,
              "#ed7953"
             ],
             [
              0.7777777777777778,
              "#fb9f3a"
             ],
             [
              0.8888888888888888,
              "#fdca26"
             ],
             [
              1,
              "#f0f921"
             ]
            ],
            "type": "contour"
           }
          ],
          "contourcarpet": [
           {
            "colorbar": {
             "outlinewidth": 0,
             "ticks": ""
            },
            "type": "contourcarpet"
           }
          ],
          "heatmap": [
           {
            "colorbar": {
             "outlinewidth": 0,
             "ticks": ""
            },
            "colorscale": [
             [
              0,
              "#0d0887"
             ],
             [
              0.1111111111111111,
              "#46039f"
             ],
             [
              0.2222222222222222,
              "#7201a8"
             ],
             [
              0.3333333333333333,
              "#9c179e"
             ],
             [
              0.4444444444444444,
              "#bd3786"
             ],
             [
              0.5555555555555556,
              "#d8576b"
             ],
             [
              0.6666666666666666,
              "#ed7953"
             ],
             [
              0.7777777777777778,
              "#fb9f3a"
             ],
             [
              0.8888888888888888,
              "#fdca26"
             ],
             [
              1,
              "#f0f921"
             ]
            ],
            "type": "heatmap"
           }
          ],
          "heatmapgl": [
           {
            "colorbar": {
             "outlinewidth": 0,
             "ticks": ""
            },
            "colorscale": [
             [
              0,
              "#0d0887"
             ],
             [
              0.1111111111111111,
              "#46039f"
             ],
             [
              0.2222222222222222,
              "#7201a8"
             ],
             [
              0.3333333333333333,
              "#9c179e"
             ],
             [
              0.4444444444444444,
              "#bd3786"
             ],
             [
              0.5555555555555556,
              "#d8576b"
             ],
             [
              0.6666666666666666,
              "#ed7953"
             ],
             [
              0.7777777777777778,
              "#fb9f3a"
             ],
             [
              0.8888888888888888,
              "#fdca26"
             ],
             [
              1,
              "#f0f921"
             ]
            ],
            "type": "heatmapgl"
           }
          ],
          "histogram": [
           {
            "marker": {
             "pattern": {
              "fillmode": "overlay",
              "size": 10,
              "solidity": 0.2
             }
            },
            "type": "histogram"
           }
          ],
          "histogram2d": [
           {
            "colorbar": {
             "outlinewidth": 0,
             "ticks": ""
            },
            "colorscale": [
             [
              0,
              "#0d0887"
             ],
             [
              0.1111111111111111,
              "#46039f"
             ],
             [
              0.2222222222222222,
              "#7201a8"
             ],
             [
              0.3333333333333333,
              "#9c179e"
             ],
             [
              0.4444444444444444,
              "#bd3786"
             ],
             [
              0.5555555555555556,
              "#d8576b"
             ],
             [
              0.6666666666666666,
              "#ed7953"
             ],
             [
              0.7777777777777778,
              "#fb9f3a"
             ],
             [
              0.8888888888888888,
              "#fdca26"
             ],
             [
              1,
              "#f0f921"
             ]
            ],
            "type": "histogram2d"
           }
          ],
          "histogram2dcontour": [
           {
            "colorbar": {
             "outlinewidth": 0,
             "ticks": ""
            },
            "colorscale": [
             [
              0,
              "#0d0887"
             ],
             [
              0.1111111111111111,
              "#46039f"
             ],
             [
              0.2222222222222222,
              "#7201a8"
             ],
             [
              0.3333333333333333,
              "#9c179e"
             ],
             [
              0.4444444444444444,
              "#bd3786"
             ],
             [
              0.5555555555555556,
              "#d8576b"
             ],
             [
              0.6666666666666666,
              "#ed7953"
             ],
             [
              0.7777777777777778,
              "#fb9f3a"
             ],
             [
              0.8888888888888888,
              "#fdca26"
             ],
             [
              1,
              "#f0f921"
             ]
            ],
            "type": "histogram2dcontour"
           }
          ],
          "mesh3d": [
           {
            "colorbar": {
             "outlinewidth": 0,
             "ticks": ""
            },
            "type": "mesh3d"
           }
          ],
          "parcoords": [
           {
            "line": {
             "colorbar": {
              "outlinewidth": 0,
              "ticks": ""
             }
            },
            "type": "parcoords"
           }
          ],
          "pie": [
           {
            "automargin": true,
            "type": "pie"
           }
          ],
          "scatter": [
           {
            "fillpattern": {
             "fillmode": "overlay",
             "size": 10,
             "solidity": 0.2
            },
            "type": "scatter"
           }
          ],
          "scatter3d": [
           {
            "line": {
             "colorbar": {
              "outlinewidth": 0,
              "ticks": ""
             }
            },
            "marker": {
             "colorbar": {
              "outlinewidth": 0,
              "ticks": ""
             }
            },
            "type": "scatter3d"
           }
          ],
          "scattercarpet": [
           {
            "marker": {
             "colorbar": {
              "outlinewidth": 0,
              "ticks": ""
             }
            },
            "type": "scattercarpet"
           }
          ],
          "scattergeo": [
           {
            "marker": {
             "colorbar": {
              "outlinewidth": 0,
              "ticks": ""
             }
            },
            "type": "scattergeo"
           }
          ],
          "scattergl": [
           {
            "marker": {
             "colorbar": {
              "outlinewidth": 0,
              "ticks": ""
             }
            },
            "type": "scattergl"
           }
          ],
          "scattermapbox": [
           {
            "marker": {
             "colorbar": {
              "outlinewidth": 0,
              "ticks": ""
             }
            },
            "type": "scattermapbox"
           }
          ],
          "scatterpolar": [
           {
            "marker": {
             "colorbar": {
              "outlinewidth": 0,
              "ticks": ""
             }
            },
            "type": "scatterpolar"
           }
          ],
          "scatterpolargl": [
           {
            "marker": {
             "colorbar": {
              "outlinewidth": 0,
              "ticks": ""
             }
            },
            "type": "scatterpolargl"
           }
          ],
          "scatterternary": [
           {
            "marker": {
             "colorbar": {
              "outlinewidth": 0,
              "ticks": ""
             }
            },
            "type": "scatterternary"
           }
          ],
          "surface": [
           {
            "colorbar": {
             "outlinewidth": 0,
             "ticks": ""
            },
            "colorscale": [
             [
              0,
              "#0d0887"
             ],
             [
              0.1111111111111111,
              "#46039f"
             ],
             [
              0.2222222222222222,
              "#7201a8"
             ],
             [
              0.3333333333333333,
              "#9c179e"
             ],
             [
              0.4444444444444444,
              "#bd3786"
             ],
             [
              0.5555555555555556,
              "#d8576b"
             ],
             [
              0.6666666666666666,
              "#ed7953"
             ],
             [
              0.7777777777777778,
              "#fb9f3a"
             ],
             [
              0.8888888888888888,
              "#fdca26"
             ],
             [
              1,
              "#f0f921"
             ]
            ],
            "type": "surface"
           }
          ],
          "table": [
           {
            "cells": {
             "fill": {
              "color": "#EBF0F8"
             },
             "line": {
              "color": "white"
             }
            },
            "header": {
             "fill": {
              "color": "#C8D4E3"
             },
             "line": {
              "color": "white"
             }
            },
            "type": "table"
           }
          ]
         },
         "layout": {
          "annotationdefaults": {
           "arrowcolor": "#2a3f5f",
           "arrowhead": 0,
           "arrowwidth": 1
          },
          "autotypenumbers": "strict",
          "coloraxis": {
           "colorbar": {
            "outlinewidth": 0,
            "ticks": ""
           }
          },
          "colorscale": {
           "diverging": [
            [
             0,
             "#8e0152"
            ],
            [
             0.1,
             "#c51b7d"
            ],
            [
             0.2,
             "#de77ae"
            ],
            [
             0.3,
             "#f1b6da"
            ],
            [
             0.4,
             "#fde0ef"
            ],
            [
             0.5,
             "#f7f7f7"
            ],
            [
             0.6,
             "#e6f5d0"
            ],
            [
             0.7,
             "#b8e186"
            ],
            [
             0.8,
             "#7fbc41"
            ],
            [
             0.9,
             "#4d9221"
            ],
            [
             1,
             "#276419"
            ]
           ],
           "sequential": [
            [
             0,
             "#0d0887"
            ],
            [
             0.1111111111111111,
             "#46039f"
            ],
            [
             0.2222222222222222,
             "#7201a8"
            ],
            [
             0.3333333333333333,
             "#9c179e"
            ],
            [
             0.4444444444444444,
             "#bd3786"
            ],
            [
             0.5555555555555556,
             "#d8576b"
            ],
            [
             0.6666666666666666,
             "#ed7953"
            ],
            [
             0.7777777777777778,
             "#fb9f3a"
            ],
            [
             0.8888888888888888,
             "#fdca26"
            ],
            [
             1,
             "#f0f921"
            ]
           ],
           "sequentialminus": [
            [
             0,
             "#0d0887"
            ],
            [
             0.1111111111111111,
             "#46039f"
            ],
            [
             0.2222222222222222,
             "#7201a8"
            ],
            [
             0.3333333333333333,
             "#9c179e"
            ],
            [
             0.4444444444444444,
             "#bd3786"
            ],
            [
             0.5555555555555556,
             "#d8576b"
            ],
            [
             0.6666666666666666,
             "#ed7953"
            ],
            [
             0.7777777777777778,
             "#fb9f3a"
            ],
            [
             0.8888888888888888,
             "#fdca26"
            ],
            [
             1,
             "#f0f921"
            ]
           ]
          },
          "colorway": [
           "#636efa",
           "#EF553B",
           "#00cc96",
           "#ab63fa",
           "#FFA15A",
           "#19d3f3",
           "#FF6692",
           "#B6E880",
           "#FF97FF",
           "#FECB52"
          ],
          "font": {
           "color": "#2a3f5f"
          },
          "geo": {
           "bgcolor": "white",
           "lakecolor": "white",
           "landcolor": "#E5ECF6",
           "showlakes": true,
           "showland": true,
           "subunitcolor": "white"
          },
          "hoverlabel": {
           "align": "left"
          },
          "hovermode": "closest",
          "mapbox": {
           "style": "light"
          },
          "paper_bgcolor": "white",
          "plot_bgcolor": "#E5ECF6",
          "polar": {
           "angularaxis": {
            "gridcolor": "white",
            "linecolor": "white",
            "ticks": ""
           },
           "bgcolor": "#E5ECF6",
           "radialaxis": {
            "gridcolor": "white",
            "linecolor": "white",
            "ticks": ""
           }
          },
          "scene": {
           "xaxis": {
            "backgroundcolor": "#E5ECF6",
            "gridcolor": "white",
            "gridwidth": 2,
            "linecolor": "white",
            "showbackground": true,
            "ticks": "",
            "zerolinecolor": "white"
           },
           "yaxis": {
            "backgroundcolor": "#E5ECF6",
            "gridcolor": "white",
            "gridwidth": 2,
            "linecolor": "white",
            "showbackground": true,
            "ticks": "",
            "zerolinecolor": "white"
           },
           "zaxis": {
            "backgroundcolor": "#E5ECF6",
            "gridcolor": "white",
            "gridwidth": 2,
            "linecolor": "white",
            "showbackground": true,
            "ticks": "",
            "zerolinecolor": "white"
           }
          },
          "shapedefaults": {
           "line": {
            "color": "#2a3f5f"
           }
          },
          "ternary": {
           "aaxis": {
            "gridcolor": "white",
            "linecolor": "white",
            "ticks": ""
           },
           "baxis": {
            "gridcolor": "white",
            "linecolor": "white",
            "ticks": ""
           },
           "bgcolor": "#E5ECF6",
           "caxis": {
            "gridcolor": "white",
            "linecolor": "white",
            "ticks": ""
           }
          },
          "title": {
           "x": 0.05
          },
          "xaxis": {
           "automargin": true,
           "gridcolor": "white",
           "linecolor": "white",
           "ticks": "",
           "title": {
            "standoff": 15
           },
           "zerolinecolor": "white",
           "zerolinewidth": 2
          },
          "yaxis": {
           "automargin": true,
           "gridcolor": "white",
           "linecolor": "white",
           "ticks": "",
           "title": {
            "standoff": 15
           },
           "zerolinecolor": "white",
           "zerolinewidth": 2
          }
         }
        },
        "title": {
         "text": "Optimization History Plot"
        },
        "xaxis": {
         "title": {
          "text": "Trial"
         }
        },
        "yaxis": {
         "title": {
          "text": "Objective Value"
         }
        }
       }
      },
      "text/html": [
       "<div>                            <div id=\"0787cf53-7ed8-4604-9dc3-68dbc3f9c7a4\" class=\"plotly-graph-div\" style=\"height:525px; width:100%;\"></div>            <script type=\"text/javascript\">                require([\"plotly\"], function(Plotly) {                    window.PLOTLYENV=window.PLOTLYENV || {};                                    if (document.getElementById(\"0787cf53-7ed8-4604-9dc3-68dbc3f9c7a4\")) {                    Plotly.newPlot(                        \"0787cf53-7ed8-4604-9dc3-68dbc3f9c7a4\",                        [{\"mode\":\"markers\",\"name\":\"Objective Value\",\"x\":[0,1,2,3,4,5,8,10,11,12,13,16,18,20,21,32,41,55,61,72,81,82,124,125,158,172,173,175,176,177,197,199,214,223,244,245,246,247,289,290,307,316,319,331],\"y\":[19167.781025277473,18984.11079443262,5327.714062169808,8764.405677407327,5611.28915378101,4708.220971211038,3904.2009540177346,4405.066819838157,4757.438344442866,4096.632604554073,4063.1121711844603,3942.998005279223,3978.1596263660253,3928.020832211872,3904.704555301261,3945.7900834328466,3956.4216623097996,3971.3810137953433,3916.424763613492,3856.9172496561455,3902.678551910212,3807.648987942145,3939.3349335184416,4086.9961823698522,3947.4791912139153,3929.9359505278103,3950.122512245427,3912.767713834378,3923.176043441412,3888.36080964634,3995.101525866635,3970.6776789911432,3980.714525412495,3932.5469517919823,3822.80449880189,3817.9221348197307,3841.1184853099944,3882.441531016818,3973.0483556102267,3971.517964267161,3904.514902295021,3874.642950781575,3918.2669789244555,3873.448489078398],\"type\":\"scatter\"},{\"name\":\"Best Value\",\"x\":[0,1,2,3,4,5,8,10,11,12,13,16,18,20,21,32,41,55,61,72,81,82,124,125,158,172,173,175,176,177,197,199,214,223,244,245,246,247,289,290,307,316,319,331],\"y\":[19167.781025277473,18984.11079443262,5327.714062169808,5327.714062169808,5327.714062169808,4708.220971211038,3904.2009540177346,3904.2009540177346,3904.2009540177346,3904.2009540177346,3904.2009540177346,3904.2009540177346,3904.2009540177346,3904.2009540177346,3904.2009540177346,3904.2009540177346,3904.2009540177346,3904.2009540177346,3904.2009540177346,3856.9172496561455,3856.9172496561455,3807.648987942145,3807.648987942145,3807.648987942145,3807.648987942145,3807.648987942145,3807.648987942145,3807.648987942145,3807.648987942145,3807.648987942145,3807.648987942145,3807.648987942145,3807.648987942145,3807.648987942145,3807.648987942145,3807.648987942145,3807.648987942145,3807.648987942145,3807.648987942145,3807.648987942145,3807.648987942145,3807.648987942145,3807.648987942145,3807.648987942145],\"type\":\"scatter\"}],                        {\"title\":{\"text\":\"Optimization History Plot\"},\"xaxis\":{\"title\":{\"text\":\"Trial\"}},\"yaxis\":{\"title\":{\"text\":\"Objective Value\"}},\"template\":{\"data\":{\"histogram2dcontour\":[{\"type\":\"histogram2dcontour\",\"colorbar\":{\"outlinewidth\":0,\"ticks\":\"\"},\"colorscale\":[[0.0,\"#0d0887\"],[0.1111111111111111,\"#46039f\"],[0.2222222222222222,\"#7201a8\"],[0.3333333333333333,\"#9c179e\"],[0.4444444444444444,\"#bd3786\"],[0.5555555555555556,\"#d8576b\"],[0.6666666666666666,\"#ed7953\"],[0.7777777777777778,\"#fb9f3a\"],[0.8888888888888888,\"#fdca26\"],[1.0,\"#f0f921\"]]}],\"choropleth\":[{\"type\":\"choropleth\",\"colorbar\":{\"outlinewidth\":0,\"ticks\":\"\"}}],\"histogram2d\":[{\"type\":\"histogram2d\",\"colorbar\":{\"outlinewidth\":0,\"ticks\":\"\"},\"colorscale\":[[0.0,\"#0d0887\"],[0.1111111111111111,\"#46039f\"],[0.2222222222222222,\"#7201a8\"],[0.3333333333333333,\"#9c179e\"],[0.4444444444444444,\"#bd3786\"],[0.5555555555555556,\"#d8576b\"],[0.6666666666666666,\"#ed7953\"],[0.7777777777777778,\"#fb9f3a\"],[0.8888888888888888,\"#fdca26\"],[1.0,\"#f0f921\"]]}],\"heatmap\":[{\"type\":\"heatmap\",\"colorbar\":{\"outlinewidth\":0,\"ticks\":\"\"},\"colorscale\":[[0.0,\"#0d0887\"],[0.1111111111111111,\"#46039f\"],[0.2222222222222222,\"#7201a8\"],[0.3333333333333333,\"#9c179e\"],[0.4444444444444444,\"#bd3786\"],[0.5555555555555556,\"#d8576b\"],[0.6666666666666666,\"#ed7953\"],[0.7777777777777778,\"#fb9f3a\"],[0.8888888888888888,\"#fdca26\"],[1.0,\"#f0f921\"]]}],\"heatmapgl\":[{\"type\":\"heatmapgl\",\"colorbar\":{\"outlinewidth\":0,\"ticks\":\"\"},\"colorscale\":[[0.0,\"#0d0887\"],[0.1111111111111111,\"#46039f\"],[0.2222222222222222,\"#7201a8\"],[0.3333333333333333,\"#9c179e\"],[0.4444444444444444,\"#bd3786\"],[0.5555555555555556,\"#d8576b\"],[0.6666666666666666,\"#ed7953\"],[0.7777777777777778,\"#fb9f3a\"],[0.8888888888888888,\"#fdca26\"],[1.0,\"#f0f921\"]]}],\"contourcarpet\":[{\"type\":\"contourcarpet\",\"colorbar\":{\"outlinewidth\":0,\"ticks\":\"\"}}],\"contour\":[{\"type\":\"contour\",\"colorbar\":{\"outlinewidth\":0,\"ticks\":\"\"},\"colorscale\":[[0.0,\"#0d0887\"],[0.1111111111111111,\"#46039f\"],[0.2222222222222222,\"#7201a8\"],[0.3333333333333333,\"#9c179e\"],[0.4444444444444444,\"#bd3786\"],[0.5555555555555556,\"#d8576b\"],[0.6666666666666666,\"#ed7953\"],[0.7777777777777778,\"#fb9f3a\"],[0.8888888888888888,\"#fdca26\"],[1.0,\"#f0f921\"]]}],\"surface\":[{\"type\":\"surface\",\"colorbar\":{\"outlinewidth\":0,\"ticks\":\"\"},\"colorscale\":[[0.0,\"#0d0887\"],[0.1111111111111111,\"#46039f\"],[0.2222222222222222,\"#7201a8\"],[0.3333333333333333,\"#9c179e\"],[0.4444444444444444,\"#bd3786\"],[0.5555555555555556,\"#d8576b\"],[0.6666666666666666,\"#ed7953\"],[0.7777777777777778,\"#fb9f3a\"],[0.8888888888888888,\"#fdca26\"],[1.0,\"#f0f921\"]]}],\"mesh3d\":[{\"type\":\"mesh3d\",\"colorbar\":{\"outlinewidth\":0,\"ticks\":\"\"}}],\"scatter\":[{\"fillpattern\":{\"fillmode\":\"overlay\",\"size\":10,\"solidity\":0.2},\"type\":\"scatter\"}],\"parcoords\":[{\"type\":\"parcoords\",\"line\":{\"colorbar\":{\"outlinewidth\":0,\"ticks\":\"\"}}}],\"scatterpolargl\":[{\"type\":\"scatterpolargl\",\"marker\":{\"colorbar\":{\"outlinewidth\":0,\"ticks\":\"\"}}}],\"bar\":[{\"error_x\":{\"color\":\"#2a3f5f\"},\"error_y\":{\"color\":\"#2a3f5f\"},\"marker\":{\"line\":{\"color\":\"#E5ECF6\",\"width\":0.5},\"pattern\":{\"fillmode\":\"overlay\",\"size\":10,\"solidity\":0.2}},\"type\":\"bar\"}],\"scattergeo\":[{\"type\":\"scattergeo\",\"marker\":{\"colorbar\":{\"outlinewidth\":0,\"ticks\":\"\"}}}],\"scatterpolar\":[{\"type\":\"scatterpolar\",\"marker\":{\"colorbar\":{\"outlinewidth\":0,\"ticks\":\"\"}}}],\"histogram\":[{\"marker\":{\"pattern\":{\"fillmode\":\"overlay\",\"size\":10,\"solidity\":0.2}},\"type\":\"histogram\"}],\"scattergl\":[{\"type\":\"scattergl\",\"marker\":{\"colorbar\":{\"outlinewidth\":0,\"ticks\":\"\"}}}],\"scatter3d\":[{\"type\":\"scatter3d\",\"line\":{\"colorbar\":{\"outlinewidth\":0,\"ticks\":\"\"}},\"marker\":{\"colorbar\":{\"outlinewidth\":0,\"ticks\":\"\"}}}],\"scattermapbox\":[{\"type\":\"scattermapbox\",\"marker\":{\"colorbar\":{\"outlinewidth\":0,\"ticks\":\"\"}}}],\"scatterternary\":[{\"type\":\"scatterternary\",\"marker\":{\"colorbar\":{\"outlinewidth\":0,\"ticks\":\"\"}}}],\"scattercarpet\":[{\"type\":\"scattercarpet\",\"marker\":{\"colorbar\":{\"outlinewidth\":0,\"ticks\":\"\"}}}],\"carpet\":[{\"aaxis\":{\"endlinecolor\":\"#2a3f5f\",\"gridcolor\":\"white\",\"linecolor\":\"white\",\"minorgridcolor\":\"white\",\"startlinecolor\":\"#2a3f5f\"},\"baxis\":{\"endlinecolor\":\"#2a3f5f\",\"gridcolor\":\"white\",\"linecolor\":\"white\",\"minorgridcolor\":\"white\",\"startlinecolor\":\"#2a3f5f\"},\"type\":\"carpet\"}],\"table\":[{\"cells\":{\"fill\":{\"color\":\"#EBF0F8\"},\"line\":{\"color\":\"white\"}},\"header\":{\"fill\":{\"color\":\"#C8D4E3\"},\"line\":{\"color\":\"white\"}},\"type\":\"table\"}],\"barpolar\":[{\"marker\":{\"line\":{\"color\":\"#E5ECF6\",\"width\":0.5},\"pattern\":{\"fillmode\":\"overlay\",\"size\":10,\"solidity\":0.2}},\"type\":\"barpolar\"}],\"pie\":[{\"automargin\":true,\"type\":\"pie\"}]},\"layout\":{\"autotypenumbers\":\"strict\",\"colorway\":[\"#636efa\",\"#EF553B\",\"#00cc96\",\"#ab63fa\",\"#FFA15A\",\"#19d3f3\",\"#FF6692\",\"#B6E880\",\"#FF97FF\",\"#FECB52\"],\"font\":{\"color\":\"#2a3f5f\"},\"hovermode\":\"closest\",\"hoverlabel\":{\"align\":\"left\"},\"paper_bgcolor\":\"white\",\"plot_bgcolor\":\"#E5ECF6\",\"polar\":{\"bgcolor\":\"#E5ECF6\",\"angularaxis\":{\"gridcolor\":\"white\",\"linecolor\":\"white\",\"ticks\":\"\"},\"radialaxis\":{\"gridcolor\":\"white\",\"linecolor\":\"white\",\"ticks\":\"\"}},\"ternary\":{\"bgcolor\":\"#E5ECF6\",\"aaxis\":{\"gridcolor\":\"white\",\"linecolor\":\"white\",\"ticks\":\"\"},\"baxis\":{\"gridcolor\":\"white\",\"linecolor\":\"white\",\"ticks\":\"\"},\"caxis\":{\"gridcolor\":\"white\",\"linecolor\":\"white\",\"ticks\":\"\"}},\"coloraxis\":{\"colorbar\":{\"outlinewidth\":0,\"ticks\":\"\"}},\"colorscale\":{\"sequential\":[[0.0,\"#0d0887\"],[0.1111111111111111,\"#46039f\"],[0.2222222222222222,\"#7201a8\"],[0.3333333333333333,\"#9c179e\"],[0.4444444444444444,\"#bd3786\"],[0.5555555555555556,\"#d8576b\"],[0.6666666666666666,\"#ed7953\"],[0.7777777777777778,\"#fb9f3a\"],[0.8888888888888888,\"#fdca26\"],[1.0,\"#f0f921\"]],\"sequentialminus\":[[0.0,\"#0d0887\"],[0.1111111111111111,\"#46039f\"],[0.2222222222222222,\"#7201a8\"],[0.3333333333333333,\"#9c179e\"],[0.4444444444444444,\"#bd3786\"],[0.5555555555555556,\"#d8576b\"],[0.6666666666666666,\"#ed7953\"],[0.7777777777777778,\"#fb9f3a\"],[0.8888888888888888,\"#fdca26\"],[1.0,\"#f0f921\"]],\"diverging\":[[0,\"#8e0152\"],[0.1,\"#c51b7d\"],[0.2,\"#de77ae\"],[0.3,\"#f1b6da\"],[0.4,\"#fde0ef\"],[0.5,\"#f7f7f7\"],[0.6,\"#e6f5d0\"],[0.7,\"#b8e186\"],[0.8,\"#7fbc41\"],[0.9,\"#4d9221\"],[1,\"#276419\"]]},\"xaxis\":{\"gridcolor\":\"white\",\"linecolor\":\"white\",\"ticks\":\"\",\"title\":{\"standoff\":15},\"zerolinecolor\":\"white\",\"automargin\":true,\"zerolinewidth\":2},\"yaxis\":{\"gridcolor\":\"white\",\"linecolor\":\"white\",\"ticks\":\"\",\"title\":{\"standoff\":15},\"zerolinecolor\":\"white\",\"automargin\":true,\"zerolinewidth\":2},\"scene\":{\"xaxis\":{\"backgroundcolor\":\"#E5ECF6\",\"gridcolor\":\"white\",\"linecolor\":\"white\",\"showbackground\":true,\"ticks\":\"\",\"zerolinecolor\":\"white\",\"gridwidth\":2},\"yaxis\":{\"backgroundcolor\":\"#E5ECF6\",\"gridcolor\":\"white\",\"linecolor\":\"white\",\"showbackground\":true,\"ticks\":\"\",\"zerolinecolor\":\"white\",\"gridwidth\":2},\"zaxis\":{\"backgroundcolor\":\"#E5ECF6\",\"gridcolor\":\"white\",\"linecolor\":\"white\",\"showbackground\":true,\"ticks\":\"\",\"zerolinecolor\":\"white\",\"gridwidth\":2}},\"shapedefaults\":{\"line\":{\"color\":\"#2a3f5f\"}},\"annotationdefaults\":{\"arrowcolor\":\"#2a3f5f\",\"arrowhead\":0,\"arrowwidth\":1},\"geo\":{\"bgcolor\":\"white\",\"landcolor\":\"#E5ECF6\",\"subunitcolor\":\"white\",\"showland\":true,\"showlakes\":true,\"lakecolor\":\"white\"},\"title\":{\"x\":0.05},\"mapbox\":{\"style\":\"light\"}}}},                        {\"responsive\": true}                    ).then(function(){\n",
       "                            \n",
       "var gd = document.getElementById('0787cf53-7ed8-4604-9dc3-68dbc3f9c7a4');\n",
       "var x = new MutationObserver(function (mutations, observer) {{\n",
       "        var display = window.getComputedStyle(gd).display;\n",
       "        if (!display || display === 'none') {{\n",
       "            console.log([gd, 'removed!']);\n",
       "            Plotly.purge(gd);\n",
       "            observer.disconnect();\n",
       "        }}\n",
       "}});\n",
       "\n",
       "// Listen for the removal of the full notebook cells\n",
       "var notebookContainer = gd.closest('#notebook-container');\n",
       "if (notebookContainer) {{\n",
       "    x.observe(notebookContainer, {childList: true});\n",
       "}}\n",
       "\n",
       "// Listen for the clearing of the current output cell\n",
       "var outputEl = gd.closest('.output');\n",
       "if (outputEl) {{\n",
       "    x.observe(outputEl, {childList: true});\n",
       "}}\n",
       "\n",
       "                        })                };                });            </script>        </div>"
      ]
     },
     "metadata": {},
     "output_type": "display_data"
    }
   ],
   "source": [
    "# 学習曲線の描画\n",
    "vis.plot_optimization_history(study)"
   ]
  },
  {
   "cell_type": "code",
   "execution_count": 17,
   "metadata": {},
   "outputs": [
    {
     "data": {
      "application/vnd.plotly.v1+json": {
       "config": {
        "plotlyServerURL": "https://plot.ly"
       },
       "data": [
        {
         "dimensions": [
          {
           "label": "Objective Value",
           "range": [
            3807.648987942145,
            19167.781025277473
           ],
           "values": [
            19167.781025277473,
            18984.11079443262,
            5327.714062169808,
            8764.405677407327,
            5611.28915378101,
            4708.220971211038,
            3904.2009540177346,
            4405.066819838157,
            4757.438344442866,
            4096.632604554073,
            4063.1121711844603,
            3942.998005279223,
            3978.1596263660253,
            3928.020832211872,
            3904.704555301261,
            3945.7900834328466,
            3956.4216623097996,
            3971.3810137953433,
            3916.424763613492,
            3856.9172496561455,
            3902.678551910212,
            3807.648987942145,
            3939.3349335184416,
            4086.9961823698522,
            3947.4791912139153,
            3929.9359505278103,
            3950.122512245427,
            3912.767713834378,
            3923.176043441412,
            3888.36080964634,
            3995.101525866635,
            3970.6776789911432,
            3980.714525412495,
            3932.5469517919823,
            3822.80449880189,
            3817.9221348197307,
            3841.1184853099944,
            3882.441531016818,
            3973.0483556102267,
            3971.517964267161,
            3904.514902295021,
            3874.642950781575,
            3918.2669789244555,
            3873.448489078398
           ]
          },
          {
           "label": "colsample_bytree",
           "range": [
            0.5,
            1
           ],
           "values": [
            0.95,
            0.8,
            0.55,
            0.9,
            0.9,
            1,
            0.65,
            0.65,
            0.65,
            0.7,
            0.7,
            0.5,
            0.5,
            0.6,
            0.6,
            0.55,
            0.55,
            0.55,
            0.55,
            0.55,
            0.55,
            0.55,
            0.7,
            0.65,
            0.6,
            0.7,
            0.7,
            0.7,
            0.7,
            0.7,
            0.8500000000000001,
            0.55,
            0.6,
            0.5,
            0.6,
            0.6,
            0.6,
            0.6,
            0.7,
            0.7,
            0.65,
            0.6,
            0.65,
            0.65
           ]
          },
          {
           "label": "gamma",
           "range": [
            0.4,
            5
           ],
           "values": [
            4.7,
            0.4,
            0.4,
            1.3000000000000003,
            0.9,
            1.4000000000000001,
            3.9000000000000004,
            3.2,
            3.2,
            4.3,
            5,
            2.3000000000000003,
            2.4000000000000004,
            2.8000000000000003,
            2.9000000000000004,
            2.6,
            3.2,
            4,
            3.7,
            4.6,
            4.3999999999999995,
            4.3999999999999995,
            4.9,
            4.3999999999999995,
            2.1,
            3.4000000000000004,
            3.2,
            3.1,
            3.2,
            3.2,
            3.6,
            3.7,
            2,
            3.5000000000000004,
            3.3000000000000003,
            3.3000000000000003,
            3.3000000000000003,
            3.3000000000000003,
            2.6,
            3.2,
            2.9000000000000004,
            3.5000000000000004,
            3.4000000000000004,
            3.2
           ]
          },
          {
           "label": "learning_rate",
           "range": [
            -4.504153704117513,
            -0.2715227310133383
           ],
           "ticktext": [
            "3.13e-05",
            "0.0001",
            "0.001",
            "0.01",
            "0.1",
            "0.535"
           ],
           "tickvals": [
            -4.504153704117513,
            -4,
            -3,
            -2,
            -1,
            -0.2715227310133383
           ],
           "values": [
            -4.504153704117513,
            -4.393731698805809,
            -2.8649000947274414,
            -3.288207710730514,
            -2.480589316892471,
            -0.4585635900046709,
            -1.0097135573355653,
            -0.5555321347215516,
            -0.2715227310133383,
            -1.1506359280613292,
            -1.158905762105939,
            -0.9373383339121104,
            -0.8301334170041378,
            -0.8363350334975965,
            -0.8091151996620637,
            -0.9116611629085103,
            -0.8304290590652843,
            -0.7767347891830225,
            -0.8041888215794903,
            -0.8737105571896253,
            -0.7536381512148418,
            -0.8723438919368729,
            -0.5536507352951741,
            -0.4707711551886652,
            -0.6151605700470851,
            -0.8275255487223052,
            -0.8044918836432089,
            -0.6902468121370647,
            -0.7324087505986407,
            -0.7169266062895755,
            -0.6319114097387818,
            -0.5027443500821878,
            -0.7389299068502395,
            -0.7636880071733645,
            -0.7518772786525343,
            -0.7620838162994752,
            -0.7536550259672112,
            -0.7523458729770545,
            -0.7022255707713605,
            -0.7007295517885468,
            -0.6974721937025316,
            -0.6661394092063649,
            -0.6821062653450954,
            -0.7913044868788301
           ]
          },
          {
           "label": "max_depth",
           "range": [
            2,
            20
           ],
           "values": [
            6,
            16,
            9,
            11,
            2,
            11,
            4,
            20,
            20,
            15,
            14,
            6,
            5,
            5,
            5,
            5,
            5,
            6,
            6,
            6,
            6,
            6,
            7,
            7,
            4,
            5,
            5,
            5,
            5,
            5,
            6,
            5,
            6,
            6,
            5,
            5,
            5,
            5,
            7,
            7,
            5,
            5,
            5,
            6
           ]
          },
          {
           "label": "min_child_weight",
           "range": [
            5,
            18
           ],
           "values": [
            17,
            11,
            11,
            7,
            18,
            5,
            8,
            13,
            13,
            13,
            14,
            8,
            8,
            9,
            9,
            9,
            9,
            10,
            10,
            7,
            10,
            10,
            9,
            10,
            8,
            13,
            13,
            14,
            14,
            14,
            8,
            8,
            13,
            8,
            9,
            9,
            9,
            9,
            9,
            9,
            8,
            8,
            7,
            7
           ]
          },
          {
           "label": "n_estimators",
           "range": [
            157,
            1881
           ],
           "values": [
            1319,
            1293,
            1408,
            1881,
            800,
            1604,
            670,
            157,
            173,
            217,
            489,
            563,
            368,
            975,
            938,
            755,
            753,
            520,
            497,
            511,
            487,
            551,
            450,
            418,
            1085,
            185,
            217,
            472,
            558,
            219,
            394,
            348,
            525,
            669,
            467,
            530,
            552,
            559,
            1141,
            1132,
            564,
            639,
            658,
            1634
           ]
          },
          {
           "label": "reg_alpha",
           "range": [
            0,
            0.9
           ],
           "values": [
            0.2,
            0.6000000000000001,
            0.1,
            0.9,
            0.6000000000000001,
            0.9,
            0.6000000000000001,
            0.4,
            0.4,
            0.4,
            0.30000000000000004,
            0.30000000000000004,
            0.5,
            0.30000000000000004,
            0.30000000000000004,
            0.2,
            0.2,
            0.1,
            0.1,
            0,
            0.1,
            0.2,
            0.30000000000000004,
            0.30000000000000004,
            0.30000000000000004,
            0.30000000000000004,
            0.30000000000000004,
            0.30000000000000004,
            0.30000000000000004,
            0.2,
            0.1,
            0.1,
            0.30000000000000004,
            0.30000000000000004,
            0.30000000000000004,
            0.30000000000000004,
            0.30000000000000004,
            0.30000000000000004,
            0.5,
            0.30000000000000004,
            0.1,
            0.2,
            0.2,
            0.2
           ]
          },
          {
           "label": "reg_lambda",
           "range": [
            0,
            1
           ],
           "values": [
            0,
            0.30000000000000004,
            0.7000000000000001,
            1,
            0.9,
            0.1,
            0,
            0.2,
            0.2,
            0.30000000000000004,
            0.4,
            0.4,
            0.6000000000000001,
            0.8,
            0.9,
            0.1,
            0.1,
            0.5,
            0.4,
            0.5,
            0.6000000000000001,
            0.7000000000000001,
            0.4,
            0.8,
            0.1,
            0.2,
            0.1,
            0.1,
            0.1,
            0.1,
            0.5,
            0.5,
            0.1,
            0.6000000000000001,
            0.8,
            0.7000000000000001,
            0.7000000000000001,
            0.7000000000000001,
            0.7000000000000001,
            0.7000000000000001,
            0.7000000000000001,
            0,
            0,
            0.1
           ]
          },
          {
           "label": "subsample",
           "range": [
            0.5,
            1
           ],
           "values": [
            0.8500000000000001,
            0.5,
            0.8500000000000001,
            0.8,
            0.65,
            0.6,
            0.8,
            1,
            1,
            1,
            0.9,
            0.75,
            0.75,
            0.6,
            0.6,
            0.75,
            0.8,
            0.95,
            0.95,
            0.95,
            0.95,
            0.95,
            0.95,
            0.95,
            0.95,
            1,
            1,
            1,
            1,
            1,
            0.95,
            0.95,
            0.7,
            0.95,
            0.95,
            0.95,
            0.95,
            0.95,
            1,
            1,
            0.9,
            0.95,
            0.95,
            0.95
           ]
          }
         ],
         "labelangle": 30,
         "labelside": "bottom",
         "line": {
          "color": [
           19167.781025277473,
           18984.11079443262,
           5327.714062169808,
           8764.405677407327,
           5611.28915378101,
           4708.220971211038,
           3904.2009540177346,
           4405.066819838157,
           4757.438344442866,
           4096.632604554073,
           4063.1121711844603,
           3942.998005279223,
           3978.1596263660253,
           3928.020832211872,
           3904.704555301261,
           3945.7900834328466,
           3956.4216623097996,
           3971.3810137953433,
           3916.424763613492,
           3856.9172496561455,
           3902.678551910212,
           3807.648987942145,
           3939.3349335184416,
           4086.9961823698522,
           3947.4791912139153,
           3929.9359505278103,
           3950.122512245427,
           3912.767713834378,
           3923.176043441412,
           3888.36080964634,
           3995.101525866635,
           3970.6776789911432,
           3980.714525412495,
           3932.5469517919823,
           3822.80449880189,
           3817.9221348197307,
           3841.1184853099944,
           3882.441531016818,
           3973.0483556102267,
           3971.517964267161,
           3904.514902295021,
           3874.642950781575,
           3918.2669789244555,
           3873.448489078398
          ],
          "colorbar": {
           "title": {
            "text": "Objective Value"
           }
          },
          "colorscale": [
           [
            0,
            "rgb(247,251,255)"
           ],
           [
            0.125,
            "rgb(222,235,247)"
           ],
           [
            0.25,
            "rgb(198,219,239)"
           ],
           [
            0.375,
            "rgb(158,202,225)"
           ],
           [
            0.5,
            "rgb(107,174,214)"
           ],
           [
            0.625,
            "rgb(66,146,198)"
           ],
           [
            0.75,
            "rgb(33,113,181)"
           ],
           [
            0.875,
            "rgb(8,81,156)"
           ],
           [
            1,
            "rgb(8,48,107)"
           ]
          ],
          "reversescale": true,
          "showscale": true
         },
         "type": "parcoords"
        }
       ],
       "layout": {
        "template": {
         "data": {
          "bar": [
           {
            "error_x": {
             "color": "#2a3f5f"
            },
            "error_y": {
             "color": "#2a3f5f"
            },
            "marker": {
             "line": {
              "color": "#E5ECF6",
              "width": 0.5
             },
             "pattern": {
              "fillmode": "overlay",
              "size": 10,
              "solidity": 0.2
             }
            },
            "type": "bar"
           }
          ],
          "barpolar": [
           {
            "marker": {
             "line": {
              "color": "#E5ECF6",
              "width": 0.5
             },
             "pattern": {
              "fillmode": "overlay",
              "size": 10,
              "solidity": 0.2
             }
            },
            "type": "barpolar"
           }
          ],
          "carpet": [
           {
            "aaxis": {
             "endlinecolor": "#2a3f5f",
             "gridcolor": "white",
             "linecolor": "white",
             "minorgridcolor": "white",
             "startlinecolor": "#2a3f5f"
            },
            "baxis": {
             "endlinecolor": "#2a3f5f",
             "gridcolor": "white",
             "linecolor": "white",
             "minorgridcolor": "white",
             "startlinecolor": "#2a3f5f"
            },
            "type": "carpet"
           }
          ],
          "choropleth": [
           {
            "colorbar": {
             "outlinewidth": 0,
             "ticks": ""
            },
            "type": "choropleth"
           }
          ],
          "contour": [
           {
            "colorbar": {
             "outlinewidth": 0,
             "ticks": ""
            },
            "colorscale": [
             [
              0,
              "#0d0887"
             ],
             [
              0.1111111111111111,
              "#46039f"
             ],
             [
              0.2222222222222222,
              "#7201a8"
             ],
             [
              0.3333333333333333,
              "#9c179e"
             ],
             [
              0.4444444444444444,
              "#bd3786"
             ],
             [
              0.5555555555555556,
              "#d8576b"
             ],
             [
              0.6666666666666666,
              "#ed7953"
             ],
             [
              0.7777777777777778,
              "#fb9f3a"
             ],
             [
              0.8888888888888888,
              "#fdca26"
             ],
             [
              1,
              "#f0f921"
             ]
            ],
            "type": "contour"
           }
          ],
          "contourcarpet": [
           {
            "colorbar": {
             "outlinewidth": 0,
             "ticks": ""
            },
            "type": "contourcarpet"
           }
          ],
          "heatmap": [
           {
            "colorbar": {
             "outlinewidth": 0,
             "ticks": ""
            },
            "colorscale": [
             [
              0,
              "#0d0887"
             ],
             [
              0.1111111111111111,
              "#46039f"
             ],
             [
              0.2222222222222222,
              "#7201a8"
             ],
             [
              0.3333333333333333,
              "#9c179e"
             ],
             [
              0.4444444444444444,
              "#bd3786"
             ],
             [
              0.5555555555555556,
              "#d8576b"
             ],
             [
              0.6666666666666666,
              "#ed7953"
             ],
             [
              0.7777777777777778,
              "#fb9f3a"
             ],
             [
              0.8888888888888888,
              "#fdca26"
             ],
             [
              1,
              "#f0f921"
             ]
            ],
            "type": "heatmap"
           }
          ],
          "heatmapgl": [
           {
            "colorbar": {
             "outlinewidth": 0,
             "ticks": ""
            },
            "colorscale": [
             [
              0,
              "#0d0887"
             ],
             [
              0.1111111111111111,
              "#46039f"
             ],
             [
              0.2222222222222222,
              "#7201a8"
             ],
             [
              0.3333333333333333,
              "#9c179e"
             ],
             [
              0.4444444444444444,
              "#bd3786"
             ],
             [
              0.5555555555555556,
              "#d8576b"
             ],
             [
              0.6666666666666666,
              "#ed7953"
             ],
             [
              0.7777777777777778,
              "#fb9f3a"
             ],
             [
              0.8888888888888888,
              "#fdca26"
             ],
             [
              1,
              "#f0f921"
             ]
            ],
            "type": "heatmapgl"
           }
          ],
          "histogram": [
           {
            "marker": {
             "pattern": {
              "fillmode": "overlay",
              "size": 10,
              "solidity": 0.2
             }
            },
            "type": "histogram"
           }
          ],
          "histogram2d": [
           {
            "colorbar": {
             "outlinewidth": 0,
             "ticks": ""
            },
            "colorscale": [
             [
              0,
              "#0d0887"
             ],
             [
              0.1111111111111111,
              "#46039f"
             ],
             [
              0.2222222222222222,
              "#7201a8"
             ],
             [
              0.3333333333333333,
              "#9c179e"
             ],
             [
              0.4444444444444444,
              "#bd3786"
             ],
             [
              0.5555555555555556,
              "#d8576b"
             ],
             [
              0.6666666666666666,
              "#ed7953"
             ],
             [
              0.7777777777777778,
              "#fb9f3a"
             ],
             [
              0.8888888888888888,
              "#fdca26"
             ],
             [
              1,
              "#f0f921"
             ]
            ],
            "type": "histogram2d"
           }
          ],
          "histogram2dcontour": [
           {
            "colorbar": {
             "outlinewidth": 0,
             "ticks": ""
            },
            "colorscale": [
             [
              0,
              "#0d0887"
             ],
             [
              0.1111111111111111,
              "#46039f"
             ],
             [
              0.2222222222222222,
              "#7201a8"
             ],
             [
              0.3333333333333333,
              "#9c179e"
             ],
             [
              0.4444444444444444,
              "#bd3786"
             ],
             [
              0.5555555555555556,
              "#d8576b"
             ],
             [
              0.6666666666666666,
              "#ed7953"
             ],
             [
              0.7777777777777778,
              "#fb9f3a"
             ],
             [
              0.8888888888888888,
              "#fdca26"
             ],
             [
              1,
              "#f0f921"
             ]
            ],
            "type": "histogram2dcontour"
           }
          ],
          "mesh3d": [
           {
            "colorbar": {
             "outlinewidth": 0,
             "ticks": ""
            },
            "type": "mesh3d"
           }
          ],
          "parcoords": [
           {
            "line": {
             "colorbar": {
              "outlinewidth": 0,
              "ticks": ""
             }
            },
            "type": "parcoords"
           }
          ],
          "pie": [
           {
            "automargin": true,
            "type": "pie"
           }
          ],
          "scatter": [
           {
            "fillpattern": {
             "fillmode": "overlay",
             "size": 10,
             "solidity": 0.2
            },
            "type": "scatter"
           }
          ],
          "scatter3d": [
           {
            "line": {
             "colorbar": {
              "outlinewidth": 0,
              "ticks": ""
             }
            },
            "marker": {
             "colorbar": {
              "outlinewidth": 0,
              "ticks": ""
             }
            },
            "type": "scatter3d"
           }
          ],
          "scattercarpet": [
           {
            "marker": {
             "colorbar": {
              "outlinewidth": 0,
              "ticks": ""
             }
            },
            "type": "scattercarpet"
           }
          ],
          "scattergeo": [
           {
            "marker": {
             "colorbar": {
              "outlinewidth": 0,
              "ticks": ""
             }
            },
            "type": "scattergeo"
           }
          ],
          "scattergl": [
           {
            "marker": {
             "colorbar": {
              "outlinewidth": 0,
              "ticks": ""
             }
            },
            "type": "scattergl"
           }
          ],
          "scattermapbox": [
           {
            "marker": {
             "colorbar": {
              "outlinewidth": 0,
              "ticks": ""
             }
            },
            "type": "scattermapbox"
           }
          ],
          "scatterpolar": [
           {
            "marker": {
             "colorbar": {
              "outlinewidth": 0,
              "ticks": ""
             }
            },
            "type": "scatterpolar"
           }
          ],
          "scatterpolargl": [
           {
            "marker": {
             "colorbar": {
              "outlinewidth": 0,
              "ticks": ""
             }
            },
            "type": "scatterpolargl"
           }
          ],
          "scatterternary": [
           {
            "marker": {
             "colorbar": {
              "outlinewidth": 0,
              "ticks": ""
             }
            },
            "type": "scatterternary"
           }
          ],
          "surface": [
           {
            "colorbar": {
             "outlinewidth": 0,
             "ticks": ""
            },
            "colorscale": [
             [
              0,
              "#0d0887"
             ],
             [
              0.1111111111111111,
              "#46039f"
             ],
             [
              0.2222222222222222,
              "#7201a8"
             ],
             [
              0.3333333333333333,
              "#9c179e"
             ],
             [
              0.4444444444444444,
              "#bd3786"
             ],
             [
              0.5555555555555556,
              "#d8576b"
             ],
             [
              0.6666666666666666,
              "#ed7953"
             ],
             [
              0.7777777777777778,
              "#fb9f3a"
             ],
             [
              0.8888888888888888,
              "#fdca26"
             ],
             [
              1,
              "#f0f921"
             ]
            ],
            "type": "surface"
           }
          ],
          "table": [
           {
            "cells": {
             "fill": {
              "color": "#EBF0F8"
             },
             "line": {
              "color": "white"
             }
            },
            "header": {
             "fill": {
              "color": "#C8D4E3"
             },
             "line": {
              "color": "white"
             }
            },
            "type": "table"
           }
          ]
         },
         "layout": {
          "annotationdefaults": {
           "arrowcolor": "#2a3f5f",
           "arrowhead": 0,
           "arrowwidth": 1
          },
          "autotypenumbers": "strict",
          "coloraxis": {
           "colorbar": {
            "outlinewidth": 0,
            "ticks": ""
           }
          },
          "colorscale": {
           "diverging": [
            [
             0,
             "#8e0152"
            ],
            [
             0.1,
             "#c51b7d"
            ],
            [
             0.2,
             "#de77ae"
            ],
            [
             0.3,
             "#f1b6da"
            ],
            [
             0.4,
             "#fde0ef"
            ],
            [
             0.5,
             "#f7f7f7"
            ],
            [
             0.6,
             "#e6f5d0"
            ],
            [
             0.7,
             "#b8e186"
            ],
            [
             0.8,
             "#7fbc41"
            ],
            [
             0.9,
             "#4d9221"
            ],
            [
             1,
             "#276419"
            ]
           ],
           "sequential": [
            [
             0,
             "#0d0887"
            ],
            [
             0.1111111111111111,
             "#46039f"
            ],
            [
             0.2222222222222222,
             "#7201a8"
            ],
            [
             0.3333333333333333,
             "#9c179e"
            ],
            [
             0.4444444444444444,
             "#bd3786"
            ],
            [
             0.5555555555555556,
             "#d8576b"
            ],
            [
             0.6666666666666666,
             "#ed7953"
            ],
            [
             0.7777777777777778,
             "#fb9f3a"
            ],
            [
             0.8888888888888888,
             "#fdca26"
            ],
            [
             1,
             "#f0f921"
            ]
           ],
           "sequentialminus": [
            [
             0,
             "#0d0887"
            ],
            [
             0.1111111111111111,
             "#46039f"
            ],
            [
             0.2222222222222222,
             "#7201a8"
            ],
            [
             0.3333333333333333,
             "#9c179e"
            ],
            [
             0.4444444444444444,
             "#bd3786"
            ],
            [
             0.5555555555555556,
             "#d8576b"
            ],
            [
             0.6666666666666666,
             "#ed7953"
            ],
            [
             0.7777777777777778,
             "#fb9f3a"
            ],
            [
             0.8888888888888888,
             "#fdca26"
            ],
            [
             1,
             "#f0f921"
            ]
           ]
          },
          "colorway": [
           "#636efa",
           "#EF553B",
           "#00cc96",
           "#ab63fa",
           "#FFA15A",
           "#19d3f3",
           "#FF6692",
           "#B6E880",
           "#FF97FF",
           "#FECB52"
          ],
          "font": {
           "color": "#2a3f5f"
          },
          "geo": {
           "bgcolor": "white",
           "lakecolor": "white",
           "landcolor": "#E5ECF6",
           "showlakes": true,
           "showland": true,
           "subunitcolor": "white"
          },
          "hoverlabel": {
           "align": "left"
          },
          "hovermode": "closest",
          "mapbox": {
           "style": "light"
          },
          "paper_bgcolor": "white",
          "plot_bgcolor": "#E5ECF6",
          "polar": {
           "angularaxis": {
            "gridcolor": "white",
            "linecolor": "white",
            "ticks": ""
           },
           "bgcolor": "#E5ECF6",
           "radialaxis": {
            "gridcolor": "white",
            "linecolor": "white",
            "ticks": ""
           }
          },
          "scene": {
           "xaxis": {
            "backgroundcolor": "#E5ECF6",
            "gridcolor": "white",
            "gridwidth": 2,
            "linecolor": "white",
            "showbackground": true,
            "ticks": "",
            "zerolinecolor": "white"
           },
           "yaxis": {
            "backgroundcolor": "#E5ECF6",
            "gridcolor": "white",
            "gridwidth": 2,
            "linecolor": "white",
            "showbackground": true,
            "ticks": "",
            "zerolinecolor": "white"
           },
           "zaxis": {
            "backgroundcolor": "#E5ECF6",
            "gridcolor": "white",
            "gridwidth": 2,
            "linecolor": "white",
            "showbackground": true,
            "ticks": "",
            "zerolinecolor": "white"
           }
          },
          "shapedefaults": {
           "line": {
            "color": "#2a3f5f"
           }
          },
          "ternary": {
           "aaxis": {
            "gridcolor": "white",
            "linecolor": "white",
            "ticks": ""
           },
           "baxis": {
            "gridcolor": "white",
            "linecolor": "white",
            "ticks": ""
           },
           "bgcolor": "#E5ECF6",
           "caxis": {
            "gridcolor": "white",
            "linecolor": "white",
            "ticks": ""
           }
          },
          "title": {
           "x": 0.05
          },
          "xaxis": {
           "automargin": true,
           "gridcolor": "white",
           "linecolor": "white",
           "ticks": "",
           "title": {
            "standoff": 15
           },
           "zerolinecolor": "white",
           "zerolinewidth": 2
          },
          "yaxis": {
           "automargin": true,
           "gridcolor": "white",
           "linecolor": "white",
           "ticks": "",
           "title": {
            "standoff": 15
           },
           "zerolinecolor": "white",
           "zerolinewidth": 2
          }
         }
        },
        "title": {
         "text": "Parallel Coordinate Plot"
        }
       }
      },
      "text/html": [
       "<div>                            <div id=\"99de4ee5-4923-4c9a-802e-4aa5f30d0e5b\" class=\"plotly-graph-div\" style=\"height:525px; width:100%;\"></div>            <script type=\"text/javascript\">                require([\"plotly\"], function(Plotly) {                    window.PLOTLYENV=window.PLOTLYENV || {};                                    if (document.getElementById(\"99de4ee5-4923-4c9a-802e-4aa5f30d0e5b\")) {                    Plotly.newPlot(                        \"99de4ee5-4923-4c9a-802e-4aa5f30d0e5b\",                        [{\"dimensions\":[{\"label\":\"Objective Value\",\"range\":[3807.648987942145,19167.781025277473],\"values\":[19167.781025277473,18984.11079443262,5327.714062169808,8764.405677407327,5611.28915378101,4708.220971211038,3904.2009540177346,4405.066819838157,4757.438344442866,4096.632604554073,4063.1121711844603,3942.998005279223,3978.1596263660253,3928.020832211872,3904.704555301261,3945.7900834328466,3956.4216623097996,3971.3810137953433,3916.424763613492,3856.9172496561455,3902.678551910212,3807.648987942145,3939.3349335184416,4086.9961823698522,3947.4791912139153,3929.9359505278103,3950.122512245427,3912.767713834378,3923.176043441412,3888.36080964634,3995.101525866635,3970.6776789911432,3980.714525412495,3932.5469517919823,3822.80449880189,3817.9221348197307,3841.1184853099944,3882.441531016818,3973.0483556102267,3971.517964267161,3904.514902295021,3874.642950781575,3918.2669789244555,3873.448489078398]},{\"label\":\"colsample_bytree\",\"range\":[0.5,1.0],\"values\":[0.95,0.8,0.55,0.9,0.9,1.0,0.65,0.65,0.65,0.7,0.7,0.5,0.5,0.6,0.6,0.55,0.55,0.55,0.55,0.55,0.55,0.55,0.7,0.65,0.6,0.7,0.7,0.7,0.7,0.7,0.8500000000000001,0.55,0.6,0.5,0.6,0.6,0.6,0.6,0.7,0.7,0.65,0.6,0.65,0.65]},{\"label\":\"gamma\",\"range\":[0.4,5.0],\"values\":[4.7,0.4,0.4,1.3000000000000003,0.9,1.4000000000000001,3.9000000000000004,3.2,3.2,4.3,5.0,2.3000000000000003,2.4000000000000004,2.8000000000000003,2.9000000000000004,2.6,3.2,4.0,3.7,4.6,4.3999999999999995,4.3999999999999995,4.9,4.3999999999999995,2.1,3.4000000000000004,3.2,3.1,3.2,3.2,3.6,3.7,2.0,3.5000000000000004,3.3000000000000003,3.3000000000000003,3.3000000000000003,3.3000000000000003,2.6,3.2,2.9000000000000004,3.5000000000000004,3.4000000000000004,3.2]},{\"label\":\"learning_rate\",\"range\":[-4.504153704117513,-0.2715227310133383],\"ticktext\":[\"3.13e-05\",\"0.0001\",\"0.001\",\"0.01\",\"0.1\",\"0.535\"],\"tickvals\":[-4.504153704117513,-4,-3,-2,-1,-0.2715227310133383],\"values\":[-4.504153704117513,-4.393731698805809,-2.8649000947274414,-3.288207710730514,-2.480589316892471,-0.4585635900046709,-1.0097135573355653,-0.5555321347215516,-0.2715227310133383,-1.1506359280613292,-1.158905762105939,-0.9373383339121104,-0.8301334170041378,-0.8363350334975965,-0.8091151996620637,-0.9116611629085103,-0.8304290590652843,-0.7767347891830225,-0.8041888215794903,-0.8737105571896253,-0.7536381512148418,-0.8723438919368729,-0.5536507352951741,-0.4707711551886652,-0.6151605700470851,-0.8275255487223052,-0.8044918836432089,-0.6902468121370647,-0.7324087505986407,-0.7169266062895755,-0.6319114097387818,-0.5027443500821878,-0.7389299068502395,-0.7636880071733645,-0.7518772786525343,-0.7620838162994752,-0.7536550259672112,-0.7523458729770545,-0.7022255707713605,-0.7007295517885468,-0.6974721937025316,-0.6661394092063649,-0.6821062653450954,-0.7913044868788301]},{\"label\":\"max_depth\",\"range\":[2,20],\"values\":[6,16,9,11,2,11,4,20,20,15,14,6,5,5,5,5,5,6,6,6,6,6,7,7,4,5,5,5,5,5,6,5,6,6,5,5,5,5,7,7,5,5,5,6]},{\"label\":\"min_child_weight\",\"range\":[5,18],\"values\":[17,11,11,7,18,5,8,13,13,13,14,8,8,9,9,9,9,10,10,7,10,10,9,10,8,13,13,14,14,14,8,8,13,8,9,9,9,9,9,9,8,8,7,7]},{\"label\":\"n_estimators\",\"range\":[157,1881],\"values\":[1319,1293,1408,1881,800,1604,670,157,173,217,489,563,368,975,938,755,753,520,497,511,487,551,450,418,1085,185,217,472,558,219,394,348,525,669,467,530,552,559,1141,1132,564,639,658,1634]},{\"label\":\"reg_alpha\",\"range\":[0.0,0.9],\"values\":[0.2,0.6000000000000001,0.1,0.9,0.6000000000000001,0.9,0.6000000000000001,0.4,0.4,0.4,0.30000000000000004,0.30000000000000004,0.5,0.30000000000000004,0.30000000000000004,0.2,0.2,0.1,0.1,0.0,0.1,0.2,0.30000000000000004,0.30000000000000004,0.30000000000000004,0.30000000000000004,0.30000000000000004,0.30000000000000004,0.30000000000000004,0.2,0.1,0.1,0.30000000000000004,0.30000000000000004,0.30000000000000004,0.30000000000000004,0.30000000000000004,0.30000000000000004,0.5,0.30000000000000004,0.1,0.2,0.2,0.2]},{\"label\":\"reg_lambda\",\"range\":[0.0,1.0],\"values\":[0.0,0.30000000000000004,0.7000000000000001,1.0,0.9,0.1,0.0,0.2,0.2,0.30000000000000004,0.4,0.4,0.6000000000000001,0.8,0.9,0.1,0.1,0.5,0.4,0.5,0.6000000000000001,0.7000000000000001,0.4,0.8,0.1,0.2,0.1,0.1,0.1,0.1,0.5,0.5,0.1,0.6000000000000001,0.8,0.7000000000000001,0.7000000000000001,0.7000000000000001,0.7000000000000001,0.7000000000000001,0.7000000000000001,0.0,0.0,0.1]},{\"label\":\"subsample\",\"range\":[0.5,1.0],\"values\":[0.8500000000000001,0.5,0.8500000000000001,0.8,0.65,0.6,0.8,1.0,1.0,1.0,0.9,0.75,0.75,0.6,0.6,0.75,0.8,0.95,0.95,0.95,0.95,0.95,0.95,0.95,0.95,1.0,1.0,1.0,1.0,1.0,0.95,0.95,0.7,0.95,0.95,0.95,0.95,0.95,1.0,1.0,0.9,0.95,0.95,0.95]}],\"labelangle\":30,\"labelside\":\"bottom\",\"line\":{\"color\":[19167.781025277473,18984.11079443262,5327.714062169808,8764.405677407327,5611.28915378101,4708.220971211038,3904.2009540177346,4405.066819838157,4757.438344442866,4096.632604554073,4063.1121711844603,3942.998005279223,3978.1596263660253,3928.020832211872,3904.704555301261,3945.7900834328466,3956.4216623097996,3971.3810137953433,3916.424763613492,3856.9172496561455,3902.678551910212,3807.648987942145,3939.3349335184416,4086.9961823698522,3947.4791912139153,3929.9359505278103,3950.122512245427,3912.767713834378,3923.176043441412,3888.36080964634,3995.101525866635,3970.6776789911432,3980.714525412495,3932.5469517919823,3822.80449880189,3817.9221348197307,3841.1184853099944,3882.441531016818,3973.0483556102267,3971.517964267161,3904.514902295021,3874.642950781575,3918.2669789244555,3873.448489078398],\"colorbar\":{\"title\":{\"text\":\"Objective Value\"}},\"colorscale\":[[0.0,\"rgb(247,251,255)\"],[0.125,\"rgb(222,235,247)\"],[0.25,\"rgb(198,219,239)\"],[0.375,\"rgb(158,202,225)\"],[0.5,\"rgb(107,174,214)\"],[0.625,\"rgb(66,146,198)\"],[0.75,\"rgb(33,113,181)\"],[0.875,\"rgb(8,81,156)\"],[1.0,\"rgb(8,48,107)\"]],\"reversescale\":true,\"showscale\":true},\"type\":\"parcoords\"}],                        {\"title\":{\"text\":\"Parallel Coordinate Plot\"},\"template\":{\"data\":{\"histogram2dcontour\":[{\"type\":\"histogram2dcontour\",\"colorbar\":{\"outlinewidth\":0,\"ticks\":\"\"},\"colorscale\":[[0.0,\"#0d0887\"],[0.1111111111111111,\"#46039f\"],[0.2222222222222222,\"#7201a8\"],[0.3333333333333333,\"#9c179e\"],[0.4444444444444444,\"#bd3786\"],[0.5555555555555556,\"#d8576b\"],[0.6666666666666666,\"#ed7953\"],[0.7777777777777778,\"#fb9f3a\"],[0.8888888888888888,\"#fdca26\"],[1.0,\"#f0f921\"]]}],\"choropleth\":[{\"type\":\"choropleth\",\"colorbar\":{\"outlinewidth\":0,\"ticks\":\"\"}}],\"histogram2d\":[{\"type\":\"histogram2d\",\"colorbar\":{\"outlinewidth\":0,\"ticks\":\"\"},\"colorscale\":[[0.0,\"#0d0887\"],[0.1111111111111111,\"#46039f\"],[0.2222222222222222,\"#7201a8\"],[0.3333333333333333,\"#9c179e\"],[0.4444444444444444,\"#bd3786\"],[0.5555555555555556,\"#d8576b\"],[0.6666666666666666,\"#ed7953\"],[0.7777777777777778,\"#fb9f3a\"],[0.8888888888888888,\"#fdca26\"],[1.0,\"#f0f921\"]]}],\"heatmap\":[{\"type\":\"heatmap\",\"colorbar\":{\"outlinewidth\":0,\"ticks\":\"\"},\"colorscale\":[[0.0,\"#0d0887\"],[0.1111111111111111,\"#46039f\"],[0.2222222222222222,\"#7201a8\"],[0.3333333333333333,\"#9c179e\"],[0.4444444444444444,\"#bd3786\"],[0.5555555555555556,\"#d8576b\"],[0.6666666666666666,\"#ed7953\"],[0.7777777777777778,\"#fb9f3a\"],[0.8888888888888888,\"#fdca26\"],[1.0,\"#f0f921\"]]}],\"heatmapgl\":[{\"type\":\"heatmapgl\",\"colorbar\":{\"outlinewidth\":0,\"ticks\":\"\"},\"colorscale\":[[0.0,\"#0d0887\"],[0.1111111111111111,\"#46039f\"],[0.2222222222222222,\"#7201a8\"],[0.3333333333333333,\"#9c179e\"],[0.4444444444444444,\"#bd3786\"],[0.5555555555555556,\"#d8576b\"],[0.6666666666666666,\"#ed7953\"],[0.7777777777777778,\"#fb9f3a\"],[0.8888888888888888,\"#fdca26\"],[1.0,\"#f0f921\"]]}],\"contourcarpet\":[{\"type\":\"contourcarpet\",\"colorbar\":{\"outlinewidth\":0,\"ticks\":\"\"}}],\"contour\":[{\"type\":\"contour\",\"colorbar\":{\"outlinewidth\":0,\"ticks\":\"\"},\"colorscale\":[[0.0,\"#0d0887\"],[0.1111111111111111,\"#46039f\"],[0.2222222222222222,\"#7201a8\"],[0.3333333333333333,\"#9c179e\"],[0.4444444444444444,\"#bd3786\"],[0.5555555555555556,\"#d8576b\"],[0.6666666666666666,\"#ed7953\"],[0.7777777777777778,\"#fb9f3a\"],[0.8888888888888888,\"#fdca26\"],[1.0,\"#f0f921\"]]}],\"surface\":[{\"type\":\"surface\",\"colorbar\":{\"outlinewidth\":0,\"ticks\":\"\"},\"colorscale\":[[0.0,\"#0d0887\"],[0.1111111111111111,\"#46039f\"],[0.2222222222222222,\"#7201a8\"],[0.3333333333333333,\"#9c179e\"],[0.4444444444444444,\"#bd3786\"],[0.5555555555555556,\"#d8576b\"],[0.6666666666666666,\"#ed7953\"],[0.7777777777777778,\"#fb9f3a\"],[0.8888888888888888,\"#fdca26\"],[1.0,\"#f0f921\"]]}],\"mesh3d\":[{\"type\":\"mesh3d\",\"colorbar\":{\"outlinewidth\":0,\"ticks\":\"\"}}],\"scatter\":[{\"fillpattern\":{\"fillmode\":\"overlay\",\"size\":10,\"solidity\":0.2},\"type\":\"scatter\"}],\"parcoords\":[{\"type\":\"parcoords\",\"line\":{\"colorbar\":{\"outlinewidth\":0,\"ticks\":\"\"}}}],\"scatterpolargl\":[{\"type\":\"scatterpolargl\",\"marker\":{\"colorbar\":{\"outlinewidth\":0,\"ticks\":\"\"}}}],\"bar\":[{\"error_x\":{\"color\":\"#2a3f5f\"},\"error_y\":{\"color\":\"#2a3f5f\"},\"marker\":{\"line\":{\"color\":\"#E5ECF6\",\"width\":0.5},\"pattern\":{\"fillmode\":\"overlay\",\"size\":10,\"solidity\":0.2}},\"type\":\"bar\"}],\"scattergeo\":[{\"type\":\"scattergeo\",\"marker\":{\"colorbar\":{\"outlinewidth\":0,\"ticks\":\"\"}}}],\"scatterpolar\":[{\"type\":\"scatterpolar\",\"marker\":{\"colorbar\":{\"outlinewidth\":0,\"ticks\":\"\"}}}],\"histogram\":[{\"marker\":{\"pattern\":{\"fillmode\":\"overlay\",\"size\":10,\"solidity\":0.2}},\"type\":\"histogram\"}],\"scattergl\":[{\"type\":\"scattergl\",\"marker\":{\"colorbar\":{\"outlinewidth\":0,\"ticks\":\"\"}}}],\"scatter3d\":[{\"type\":\"scatter3d\",\"line\":{\"colorbar\":{\"outlinewidth\":0,\"ticks\":\"\"}},\"marker\":{\"colorbar\":{\"outlinewidth\":0,\"ticks\":\"\"}}}],\"scattermapbox\":[{\"type\":\"scattermapbox\",\"marker\":{\"colorbar\":{\"outlinewidth\":0,\"ticks\":\"\"}}}],\"scatterternary\":[{\"type\":\"scatterternary\",\"marker\":{\"colorbar\":{\"outlinewidth\":0,\"ticks\":\"\"}}}],\"scattercarpet\":[{\"type\":\"scattercarpet\",\"marker\":{\"colorbar\":{\"outlinewidth\":0,\"ticks\":\"\"}}}],\"carpet\":[{\"aaxis\":{\"endlinecolor\":\"#2a3f5f\",\"gridcolor\":\"white\",\"linecolor\":\"white\",\"minorgridcolor\":\"white\",\"startlinecolor\":\"#2a3f5f\"},\"baxis\":{\"endlinecolor\":\"#2a3f5f\",\"gridcolor\":\"white\",\"linecolor\":\"white\",\"minorgridcolor\":\"white\",\"startlinecolor\":\"#2a3f5f\"},\"type\":\"carpet\"}],\"table\":[{\"cells\":{\"fill\":{\"color\":\"#EBF0F8\"},\"line\":{\"color\":\"white\"}},\"header\":{\"fill\":{\"color\":\"#C8D4E3\"},\"line\":{\"color\":\"white\"}},\"type\":\"table\"}],\"barpolar\":[{\"marker\":{\"line\":{\"color\":\"#E5ECF6\",\"width\":0.5},\"pattern\":{\"fillmode\":\"overlay\",\"size\":10,\"solidity\":0.2}},\"type\":\"barpolar\"}],\"pie\":[{\"automargin\":true,\"type\":\"pie\"}]},\"layout\":{\"autotypenumbers\":\"strict\",\"colorway\":[\"#636efa\",\"#EF553B\",\"#00cc96\",\"#ab63fa\",\"#FFA15A\",\"#19d3f3\",\"#FF6692\",\"#B6E880\",\"#FF97FF\",\"#FECB52\"],\"font\":{\"color\":\"#2a3f5f\"},\"hovermode\":\"closest\",\"hoverlabel\":{\"align\":\"left\"},\"paper_bgcolor\":\"white\",\"plot_bgcolor\":\"#E5ECF6\",\"polar\":{\"bgcolor\":\"#E5ECF6\",\"angularaxis\":{\"gridcolor\":\"white\",\"linecolor\":\"white\",\"ticks\":\"\"},\"radialaxis\":{\"gridcolor\":\"white\",\"linecolor\":\"white\",\"ticks\":\"\"}},\"ternary\":{\"bgcolor\":\"#E5ECF6\",\"aaxis\":{\"gridcolor\":\"white\",\"linecolor\":\"white\",\"ticks\":\"\"},\"baxis\":{\"gridcolor\":\"white\",\"linecolor\":\"white\",\"ticks\":\"\"},\"caxis\":{\"gridcolor\":\"white\",\"linecolor\":\"white\",\"ticks\":\"\"}},\"coloraxis\":{\"colorbar\":{\"outlinewidth\":0,\"ticks\":\"\"}},\"colorscale\":{\"sequential\":[[0.0,\"#0d0887\"],[0.1111111111111111,\"#46039f\"],[0.2222222222222222,\"#7201a8\"],[0.3333333333333333,\"#9c179e\"],[0.4444444444444444,\"#bd3786\"],[0.5555555555555556,\"#d8576b\"],[0.6666666666666666,\"#ed7953\"],[0.7777777777777778,\"#fb9f3a\"],[0.8888888888888888,\"#fdca26\"],[1.0,\"#f0f921\"]],\"sequentialminus\":[[0.0,\"#0d0887\"],[0.1111111111111111,\"#46039f\"],[0.2222222222222222,\"#7201a8\"],[0.3333333333333333,\"#9c179e\"],[0.4444444444444444,\"#bd3786\"],[0.5555555555555556,\"#d8576b\"],[0.6666666666666666,\"#ed7953\"],[0.7777777777777778,\"#fb9f3a\"],[0.8888888888888888,\"#fdca26\"],[1.0,\"#f0f921\"]],\"diverging\":[[0,\"#8e0152\"],[0.1,\"#c51b7d\"],[0.2,\"#de77ae\"],[0.3,\"#f1b6da\"],[0.4,\"#fde0ef\"],[0.5,\"#f7f7f7\"],[0.6,\"#e6f5d0\"],[0.7,\"#b8e186\"],[0.8,\"#7fbc41\"],[0.9,\"#4d9221\"],[1,\"#276419\"]]},\"xaxis\":{\"gridcolor\":\"white\",\"linecolor\":\"white\",\"ticks\":\"\",\"title\":{\"standoff\":15},\"zerolinecolor\":\"white\",\"automargin\":true,\"zerolinewidth\":2},\"yaxis\":{\"gridcolor\":\"white\",\"linecolor\":\"white\",\"ticks\":\"\",\"title\":{\"standoff\":15},\"zerolinecolor\":\"white\",\"automargin\":true,\"zerolinewidth\":2},\"scene\":{\"xaxis\":{\"backgroundcolor\":\"#E5ECF6\",\"gridcolor\":\"white\",\"linecolor\":\"white\",\"showbackground\":true,\"ticks\":\"\",\"zerolinecolor\":\"white\",\"gridwidth\":2},\"yaxis\":{\"backgroundcolor\":\"#E5ECF6\",\"gridcolor\":\"white\",\"linecolor\":\"white\",\"showbackground\":true,\"ticks\":\"\",\"zerolinecolor\":\"white\",\"gridwidth\":2},\"zaxis\":{\"backgroundcolor\":\"#E5ECF6\",\"gridcolor\":\"white\",\"linecolor\":\"white\",\"showbackground\":true,\"ticks\":\"\",\"zerolinecolor\":\"white\",\"gridwidth\":2}},\"shapedefaults\":{\"line\":{\"color\":\"#2a3f5f\"}},\"annotationdefaults\":{\"arrowcolor\":\"#2a3f5f\",\"arrowhead\":0,\"arrowwidth\":1},\"geo\":{\"bgcolor\":\"white\",\"landcolor\":\"#E5ECF6\",\"subunitcolor\":\"white\",\"showland\":true,\"showlakes\":true,\"lakecolor\":\"white\"},\"title\":{\"x\":0.05},\"mapbox\":{\"style\":\"light\"}}}},                        {\"responsive\": true}                    ).then(function(){\n",
       "                            \n",
       "var gd = document.getElementById('99de4ee5-4923-4c9a-802e-4aa5f30d0e5b');\n",
       "var x = new MutationObserver(function (mutations, observer) {{\n",
       "        var display = window.getComputedStyle(gd).display;\n",
       "        if (!display || display === 'none') {{\n",
       "            console.log([gd, 'removed!']);\n",
       "            Plotly.purge(gd);\n",
       "            observer.disconnect();\n",
       "        }}\n",
       "}});\n",
       "\n",
       "// Listen for the removal of the full notebook cells\n",
       "var notebookContainer = gd.closest('#notebook-container');\n",
       "if (notebookContainer) {{\n",
       "    x.observe(notebookContainer, {childList: true});\n",
       "}}\n",
       "\n",
       "// Listen for the clearing of the current output cell\n",
       "var outputEl = gd.closest('.output');\n",
       "if (outputEl) {{\n",
       "    x.observe(outputEl, {childList: true});\n",
       "}}\n",
       "\n",
       "                        })                };                });            </script>        </div>"
      ]
     },
     "metadata": {},
     "output_type": "display_data"
    }
   ],
   "source": [
    "# ハイパーパラメータ探索空間の視覚化\n",
    "vis.plot_parallel_coordinate(study)"
   ]
  },
  {
   "cell_type": "code",
   "execution_count": 19,
   "metadata": {},
   "outputs": [],
   "source": [
    "# 最適なモデルの取得\n",
    "best_params = study.best_trial.params\n",
    "best_model = xgb.XGBRegressor(**best_params, random_state=42)\n",
    "best_model.fit(X, y)\n",
    "\n",
    "# モデルを保存\n",
    "best_model.save_model('../models/XGBoost')"
   ]
  }
 ],
 "metadata": {
  "kernelspec": {
   "display_name": "base",
   "language": "python",
   "name": "python3"
  },
  "language_info": {
   "codemirror_mode": {
    "name": "ipython",
    "version": 3
   },
   "file_extension": ".py",
   "mimetype": "text/x-python",
   "name": "python",
   "nbconvert_exporter": "python",
   "pygments_lexer": "ipython3",
   "version": "3.9.7"
  },
  "orig_nbformat": 4
 },
 "nbformat": 4,
 "nbformat_minor": 2
}
