{
 "cells": [
  {
   "cell_type": "code",
   "execution_count": 20,
   "metadata": {},
   "outputs": [],
   "source": [
    "from sklearn.model_selection import train_test_split\n",
    "from sklearn.model_selection import cross_val_predict\n",
    "from sklearn.preprocessing import LabelEncoder\n",
    "from sklearn.tree import DecisionTreeRegressor\n",
    "from sklearn.metrics import mean_squared_error\n",
    "from sklearn.ensemble import RandomForestRegressor\n",
    "from sklearn.ensemble import BaggingRegressor\n",
    "from sklearn.model_selection import cross_val_score\n",
    "from sklearn.linear_model import LinearRegression\n",
    "import pandas as pd\n",
    "import numpy as np\n",
    "\n",
    "# データの読み込み\n",
    "train_data = pd.read_csv('../data_processed/train_data_processed.csv')\n",
    "test_data = pd.read_csv('../data_processed/test_data_processed.csv')\n",
    "submit_data = pd.read_csv('../data/test.csv')"
   ]
  },
  {
   "cell_type": "code",
   "execution_count": 21,
   "metadata": {},
   "outputs": [],
   "source": [
    "X = train_data.drop(['attendance'], axis=1)\n",
    "y = train_data['attendance']\n",
    "\n",
    "# 学習データと評価データに分割\n",
    "X_train, X_test, y_train, y_test = train_test_split(X, y, test_size=0.2, random_state=42)"
   ]
  },
  {
   "cell_type": "code",
   "execution_count": 24,
   "metadata": {},
   "outputs": [],
   "source": [
    "# ベースモデル1\n",
    "base_model1 = RandomForestRegressor(n_estimators=100, random_state=42)\n",
    "\n",
    "# ベースモデル2\n",
    "base_model2 = DecisionTreeRegressor(random_state=42)\n",
    "\n",
    "# ベースモデル3\n",
    "base_model3 = LinearRegression()\n",
    "\n",
    "# バギングモデルを作成\n",
    "model1 = BaggingRegressor(base_model1, n_estimators=10, random_state=42)\n",
    "model2 = BaggingRegressor(base_model2, n_estimators=10, random_state=42)\n",
    "model3 = BaggingRegressor(base_model3, n_estimators=10, random_state=42)\n",
    "\n",
    "# モデルを学習\n",
    "model1.fit(X, y)\n",
    "model2.fit(X, y)\n",
    "model3.fit(X, y)\n",
    "\n",
    "# 評価用データで予測\n",
    "test_predictions1 = model1.predict(test_data)\n",
    "test_predictions2 = model2.predict(test_data)\n",
    "test_predictions3= model3.predict(test_data)\n",
    "\n",
    "# 予測結果の平均を取る\n",
    "ensemble_predictions = (test_predictions1 + test_predictions2 + test_predictions3) / 3\n",
    "\n",
    "# 提出用データフレームを作成\n",
    "submission = pd.DataFrame({\n",
    "    'id': submit_data['id'],\n",
    "    'attendance': ensemble_predictions\n",
    "})\n",
    "# ヘッダーを含まずにCSVファイルとして保存（'Deloitte Analytics/submission'フォルダに保存）\n",
    "submission.to_csv('../submission/5ensemble_bagging_random_forest.csv', index=False, header=False)"
   ]
  }
 ],
 "metadata": {
  "kernelspec": {
   "display_name": "base",
   "language": "python",
   "name": "python3"
  },
  "language_info": {
   "codemirror_mode": {
    "name": "ipython",
    "version": 3
   },
   "file_extension": ".py",
   "mimetype": "text/x-python",
   "name": "python",
   "nbconvert_exporter": "python",
   "pygments_lexer": "ipython3",
   "version": "3.9.7"
  },
  "orig_nbformat": 4
 },
 "nbformat": 4,
 "nbformat_minor": 2
}
