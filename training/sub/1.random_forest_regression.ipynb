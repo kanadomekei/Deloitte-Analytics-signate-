{
 "cells": [
  {
   "cell_type": "code",
   "execution_count": 13,
   "metadata": {},
   "outputs": [],
   "source": [
    "import pandas as pd\n",
    "from sklearn.ensemble import RandomForestRegressor\n",
    "from sklearn.model_selection import train_test_split\n",
    "from sklearn.metrics import mean_squared_error\n",
    "\n",
    "# 学習データを読み込む\n",
    "train_data = pd.read_csv('../data/train.csv')\n",
    "\n",
    "# モデルが扱える形にデータを整形\n",
    "# ここでは 'temperature' と 'humidity' の2つの特徴量を使用し、'attendance' を目的変数とする\n",
    "X = train_data[['temperature', 'humidity']]\n",
    "y = train_data['attendance']\n",
    "\n",
    "# 学習データと評価データに分割\n",
    "X_train, X_test, y_train, y_test = train_test_split(X, y, test_size=0.2, random_state=42)"
   ]
  },
  {
   "cell_type": "code",
   "execution_count": 14,
   "metadata": {},
   "outputs": [
    {
     "name": "stdout",
     "output_type": "stream",
     "text": [
      "RMSE: 9967.146298339025\n"
     ]
    }
   ],
   "source": [
    "\n",
    "\n",
    "# モデルを作成\n",
    "model = RandomForestRegressor(n_estimators=100, random_state=42)\n",
    "\n",
    "# モデルを学習\n",
    "model.fit(X_train, y_train)\n",
    "\n",
    "# 評価データで予測\n",
    "predictions = model.predict(X_test)\n",
    "\n",
    "# RMSEを計算\n",
    "rmse = mean_squared_error(y_test, predictions, squared=False)\n",
    "print(f\"RMSE: {rmse}\")\n",
    "\n",
    "# 評価用データを読み込む\n",
    "test_data = pd.read_csv('../data/test.csv')\n",
    "\n",
    "# 評価用データで予測\n",
    "test_predictions = model.predict(test_data[['temperature', 'humidity']])\n",
    "\n",
    "# 提出用データフレームを作成\n",
    "submission = pd.DataFrame({\n",
    "    'id': test_data['id'],\n",
    "    'attendance': test_predictions\n",
    "})\n",
    "\n",
    "# ヘッダーを含まずにCSVファイルとして保存（'Deloitte Analytics/submission'フォルダに保存）\n",
    "submission.to_csv('../submission/1random_forest_regression.csv', index=False, header=False)"
   ]
  }
 ],
 "metadata": {
  "kernelspec": {
   "display_name": "base",
   "language": "python",
   "name": "python3"
  },
  "language_info": {
   "codemirror_mode": {
    "name": "ipython",
    "version": 3
   },
   "file_extension": ".py",
   "mimetype": "text/x-python",
   "name": "python",
   "nbconvert_exporter": "python",
   "pygments_lexer": "ipython3",
   "version": "3.9.7"
  },
  "orig_nbformat": 4
 },
 "nbformat": 4,
 "nbformat_minor": 2
}
